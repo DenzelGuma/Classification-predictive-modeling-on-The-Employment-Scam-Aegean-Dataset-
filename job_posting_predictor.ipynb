{
 "cells": [
  {
   "cell_type": "code",
   "execution_count": 1,
   "metadata": {},
   "outputs": [],
   "source": [
    "import pandas as pd \n",
    "import numpy as np\n",
    "import matplotlib.pyplot as plt\n",
    "import seaborn as sns\n",
    "import warnings \n",
    "warnings.filterwarnings('ignore')"
   ]
  },
  {
   "cell_type": "markdown",
   "metadata": {},
   "source": [
    "## Data preparation"
   ]
  },
  {
   "cell_type": "code",
   "execution_count": 2,
   "metadata": {},
   "outputs": [
    {
     "data": {
      "text/html": [
       "<div>\n",
       "<style scoped>\n",
       "    .dataframe tbody tr th:only-of-type {\n",
       "        vertical-align: middle;\n",
       "    }\n",
       "\n",
       "    .dataframe tbody tr th {\n",
       "        vertical-align: top;\n",
       "    }\n",
       "\n",
       "    .dataframe thead th {\n",
       "        text-align: right;\n",
       "    }\n",
       "</style>\n",
       "<table border=\"1\" class=\"dataframe\">\n",
       "  <thead>\n",
       "    <tr style=\"text-align: right;\">\n",
       "      <th></th>\n",
       "      <th>job_id</th>\n",
       "      <th>title</th>\n",
       "      <th>location</th>\n",
       "      <th>department</th>\n",
       "      <th>salary_range</th>\n",
       "      <th>company_profile</th>\n",
       "      <th>description</th>\n",
       "      <th>requirements</th>\n",
       "      <th>benefits</th>\n",
       "      <th>telecommuting</th>\n",
       "      <th>has_company_logo</th>\n",
       "      <th>has_questions</th>\n",
       "      <th>employment_type</th>\n",
       "      <th>required_experience</th>\n",
       "      <th>required_education</th>\n",
       "      <th>industry</th>\n",
       "      <th>function</th>\n",
       "      <th>fraudulent</th>\n",
       "    </tr>\n",
       "  </thead>\n",
       "  <tbody>\n",
       "    <tr>\n",
       "      <th>0</th>\n",
       "      <td>1</td>\n",
       "      <td>Marketing Intern</td>\n",
       "      <td>US, NY, New York</td>\n",
       "      <td>Marketing</td>\n",
       "      <td>NaN</td>\n",
       "      <td>We're Food52, and we've created a groundbreaki...</td>\n",
       "      <td>Food52, a fast-growing, James Beard Award-winn...</td>\n",
       "      <td>Experience with content management systems a m...</td>\n",
       "      <td>NaN</td>\n",
       "      <td>0</td>\n",
       "      <td>1</td>\n",
       "      <td>0</td>\n",
       "      <td>Other</td>\n",
       "      <td>Internship</td>\n",
       "      <td>NaN</td>\n",
       "      <td>NaN</td>\n",
       "      <td>Marketing</td>\n",
       "      <td>0</td>\n",
       "    </tr>\n",
       "    <tr>\n",
       "      <th>1</th>\n",
       "      <td>2</td>\n",
       "      <td>Customer Service - Cloud Video Production</td>\n",
       "      <td>NZ, , Auckland</td>\n",
       "      <td>Success</td>\n",
       "      <td>NaN</td>\n",
       "      <td>90 Seconds, the worlds Cloud Video Production ...</td>\n",
       "      <td>Organised - Focused - Vibrant - Awesome!Do you...</td>\n",
       "      <td>What we expect from you:Your key responsibilit...</td>\n",
       "      <td>What you will get from usThrough being part of...</td>\n",
       "      <td>0</td>\n",
       "      <td>1</td>\n",
       "      <td>0</td>\n",
       "      <td>Full-time</td>\n",
       "      <td>Not Applicable</td>\n",
       "      <td>NaN</td>\n",
       "      <td>Marketing and Advertising</td>\n",
       "      <td>Customer Service</td>\n",
       "      <td>0</td>\n",
       "    </tr>\n",
       "  </tbody>\n",
       "</table>\n",
       "</div>"
      ],
      "text/plain": [
       "   job_id                                      title          location  \\\n",
       "0       1                           Marketing Intern  US, NY, New York   \n",
       "1       2  Customer Service - Cloud Video Production    NZ, , Auckland   \n",
       "\n",
       "  department salary_range                                    company_profile  \\\n",
       "0  Marketing          NaN  We're Food52, and we've created a groundbreaki...   \n",
       "1    Success          NaN  90 Seconds, the worlds Cloud Video Production ...   \n",
       "\n",
       "                                         description  \\\n",
       "0  Food52, a fast-growing, James Beard Award-winn...   \n",
       "1  Organised - Focused - Vibrant - Awesome!Do you...   \n",
       "\n",
       "                                        requirements  \\\n",
       "0  Experience with content management systems a m...   \n",
       "1  What we expect from you:Your key responsibilit...   \n",
       "\n",
       "                                            benefits  telecommuting  \\\n",
       "0                                                NaN              0   \n",
       "1  What you will get from usThrough being part of...              0   \n",
       "\n",
       "   has_company_logo  has_questions employment_type required_experience  \\\n",
       "0                 1              0           Other          Internship   \n",
       "1                 1              0       Full-time      Not Applicable   \n",
       "\n",
       "  required_education                   industry          function  fraudulent  \n",
       "0                NaN                        NaN         Marketing           0  \n",
       "1                NaN  Marketing and Advertising  Customer Service           0  "
      ]
     },
     "execution_count": 2,
     "metadata": {},
     "output_type": "execute_result"
    }
   ],
   "source": [
    "#read job posting datasete into DataFrame.\n",
    "df = pd.read_csv('datasets/fake_job_postings.csv')\n",
    "df.head(2)\n"
   ]
  },
  {
   "cell_type": "code",
   "execution_count": 3,
   "metadata": {},
   "outputs": [
    {
     "name": "stdout",
     "output_type": "stream",
     "text": [
      "<class 'pandas.core.frame.DataFrame'>\n",
      "RangeIndex: 17880 entries, 0 to 17879\n",
      "Data columns (total 18 columns):\n",
      " #   Column               Non-Null Count  Dtype \n",
      "---  ------               --------------  ----- \n",
      " 0   job_id               17880 non-null  int64 \n",
      " 1   title                17880 non-null  object\n",
      " 2   location             17534 non-null  object\n",
      " 3   department           6333 non-null   object\n",
      " 4   salary_range         2868 non-null   object\n",
      " 5   company_profile      14572 non-null  object\n",
      " 6   description          17879 non-null  object\n",
      " 7   requirements         15185 non-null  object\n",
      " 8   benefits             10670 non-null  object\n",
      " 9   telecommuting        17880 non-null  int64 \n",
      " 10  has_company_logo     17880 non-null  int64 \n",
      " 11  has_questions        17880 non-null  int64 \n",
      " 12  employment_type      14409 non-null  object\n",
      " 13  required_experience  10830 non-null  object\n",
      " 14  required_education   9775 non-null   object\n",
      " 15  industry             12977 non-null  object\n",
      " 16  function             11425 non-null  object\n",
      " 17  fraudulent           17880 non-null  int64 \n",
      "dtypes: int64(5), object(13)\n",
      "memory usage: 2.5+ MB\n"
     ]
    }
   ],
   "source": [
    "df.info()#summary of dataframe"
   ]
  },
  {
   "cell_type": "code",
   "execution_count": 4,
   "metadata": {},
   "outputs": [
    {
     "data": {
      "text/html": [
       "<div>\n",
       "<style scoped>\n",
       "    .dataframe tbody tr th:only-of-type {\n",
       "        vertical-align: middle;\n",
       "    }\n",
       "\n",
       "    .dataframe tbody tr th {\n",
       "        vertical-align: top;\n",
       "    }\n",
       "\n",
       "    .dataframe thead th {\n",
       "        text-align: right;\n",
       "    }\n",
       "</style>\n",
       "<table border=\"1\" class=\"dataframe\">\n",
       "  <thead>\n",
       "    <tr style=\"text-align: right;\">\n",
       "      <th></th>\n",
       "      <th>salary_range</th>\n",
       "      <th>telecommuting</th>\n",
       "      <th>has_company_logo</th>\n",
       "      <th>has_questions</th>\n",
       "      <th>employment_type</th>\n",
       "      <th>required_experience</th>\n",
       "      <th>required_education</th>\n",
       "      <th>industry</th>\n",
       "      <th>function</th>\n",
       "      <th>fraudulent</th>\n",
       "    </tr>\n",
       "  </thead>\n",
       "  <tbody>\n",
       "    <tr>\n",
       "      <th>0</th>\n",
       "      <td>NaN</td>\n",
       "      <td>0</td>\n",
       "      <td>1</td>\n",
       "      <td>0</td>\n",
       "      <td>Other</td>\n",
       "      <td>Internship</td>\n",
       "      <td>NaN</td>\n",
       "      <td>NaN</td>\n",
       "      <td>Marketing</td>\n",
       "      <td>0</td>\n",
       "    </tr>\n",
       "    <tr>\n",
       "      <th>1</th>\n",
       "      <td>NaN</td>\n",
       "      <td>0</td>\n",
       "      <td>1</td>\n",
       "      <td>0</td>\n",
       "      <td>Full-time</td>\n",
       "      <td>Not Applicable</td>\n",
       "      <td>NaN</td>\n",
       "      <td>Marketing and Advertising</td>\n",
       "      <td>Customer Service</td>\n",
       "      <td>0</td>\n",
       "    </tr>\n",
       "    <tr>\n",
       "      <th>2</th>\n",
       "      <td>NaN</td>\n",
       "      <td>0</td>\n",
       "      <td>1</td>\n",
       "      <td>0</td>\n",
       "      <td>NaN</td>\n",
       "      <td>NaN</td>\n",
       "      <td>NaN</td>\n",
       "      <td>NaN</td>\n",
       "      <td>NaN</td>\n",
       "      <td>0</td>\n",
       "    </tr>\n",
       "    <tr>\n",
       "      <th>3</th>\n",
       "      <td>NaN</td>\n",
       "      <td>0</td>\n",
       "      <td>1</td>\n",
       "      <td>0</td>\n",
       "      <td>Full-time</td>\n",
       "      <td>Mid-Senior level</td>\n",
       "      <td>Bachelor's Degree</td>\n",
       "      <td>Computer Software</td>\n",
       "      <td>Sales</td>\n",
       "      <td>0</td>\n",
       "    </tr>\n",
       "    <tr>\n",
       "      <th>4</th>\n",
       "      <td>NaN</td>\n",
       "      <td>0</td>\n",
       "      <td>1</td>\n",
       "      <td>1</td>\n",
       "      <td>Full-time</td>\n",
       "      <td>Mid-Senior level</td>\n",
       "      <td>Bachelor's Degree</td>\n",
       "      <td>Hospital &amp; Health Care</td>\n",
       "      <td>Health Care Provider</td>\n",
       "      <td>0</td>\n",
       "    </tr>\n",
       "    <tr>\n",
       "      <th>...</th>\n",
       "      <td>...</td>\n",
       "      <td>...</td>\n",
       "      <td>...</td>\n",
       "      <td>...</td>\n",
       "      <td>...</td>\n",
       "      <td>...</td>\n",
       "      <td>...</td>\n",
       "      <td>...</td>\n",
       "      <td>...</td>\n",
       "      <td>...</td>\n",
       "    </tr>\n",
       "    <tr>\n",
       "      <th>17875</th>\n",
       "      <td>NaN</td>\n",
       "      <td>0</td>\n",
       "      <td>1</td>\n",
       "      <td>1</td>\n",
       "      <td>Full-time</td>\n",
       "      <td>Mid-Senior level</td>\n",
       "      <td>NaN</td>\n",
       "      <td>Computer Software</td>\n",
       "      <td>Sales</td>\n",
       "      <td>0</td>\n",
       "    </tr>\n",
       "    <tr>\n",
       "      <th>17876</th>\n",
       "      <td>NaN</td>\n",
       "      <td>0</td>\n",
       "      <td>1</td>\n",
       "      <td>1</td>\n",
       "      <td>Full-time</td>\n",
       "      <td>Mid-Senior level</td>\n",
       "      <td>Bachelor's Degree</td>\n",
       "      <td>Internet</td>\n",
       "      <td>Accounting/Auditing</td>\n",
       "      <td>0</td>\n",
       "    </tr>\n",
       "    <tr>\n",
       "      <th>17877</th>\n",
       "      <td>NaN</td>\n",
       "      <td>0</td>\n",
       "      <td>0</td>\n",
       "      <td>0</td>\n",
       "      <td>Full-time</td>\n",
       "      <td>NaN</td>\n",
       "      <td>NaN</td>\n",
       "      <td>NaN</td>\n",
       "      <td>NaN</td>\n",
       "      <td>0</td>\n",
       "    </tr>\n",
       "    <tr>\n",
       "      <th>17878</th>\n",
       "      <td>NaN</td>\n",
       "      <td>0</td>\n",
       "      <td>0</td>\n",
       "      <td>1</td>\n",
       "      <td>Contract</td>\n",
       "      <td>Not Applicable</td>\n",
       "      <td>Professional</td>\n",
       "      <td>Graphic Design</td>\n",
       "      <td>Design</td>\n",
       "      <td>0</td>\n",
       "    </tr>\n",
       "    <tr>\n",
       "      <th>17879</th>\n",
       "      <td>NaN</td>\n",
       "      <td>0</td>\n",
       "      <td>1</td>\n",
       "      <td>1</td>\n",
       "      <td>Full-time</td>\n",
       "      <td>Mid-Senior level</td>\n",
       "      <td>NaN</td>\n",
       "      <td>Computer Software</td>\n",
       "      <td>Engineering</td>\n",
       "      <td>0</td>\n",
       "    </tr>\n",
       "  </tbody>\n",
       "</table>\n",
       "<p>17880 rows × 10 columns</p>\n",
       "</div>"
      ],
      "text/plain": [
       "      salary_range  telecommuting  has_company_logo  has_questions  \\\n",
       "0              NaN              0                 1              0   \n",
       "1              NaN              0                 1              0   \n",
       "2              NaN              0                 1              0   \n",
       "3              NaN              0                 1              0   \n",
       "4              NaN              0                 1              1   \n",
       "...            ...            ...               ...            ...   \n",
       "17875          NaN              0                 1              1   \n",
       "17876          NaN              0                 1              1   \n",
       "17877          NaN              0                 0              0   \n",
       "17878          NaN              0                 0              1   \n",
       "17879          NaN              0                 1              1   \n",
       "\n",
       "      employment_type required_experience required_education  \\\n",
       "0               Other          Internship                NaN   \n",
       "1           Full-time      Not Applicable                NaN   \n",
       "2                 NaN                 NaN                NaN   \n",
       "3           Full-time    Mid-Senior level  Bachelor's Degree   \n",
       "4           Full-time    Mid-Senior level  Bachelor's Degree   \n",
       "...               ...                 ...                ...   \n",
       "17875       Full-time    Mid-Senior level                NaN   \n",
       "17876       Full-time    Mid-Senior level  Bachelor's Degree   \n",
       "17877       Full-time                 NaN                NaN   \n",
       "17878        Contract      Not Applicable       Professional   \n",
       "17879       Full-time    Mid-Senior level                NaN   \n",
       "\n",
       "                        industry              function  fraudulent  \n",
       "0                            NaN             Marketing           0  \n",
       "1      Marketing and Advertising      Customer Service           0  \n",
       "2                            NaN                   NaN           0  \n",
       "3              Computer Software                 Sales           0  \n",
       "4         Hospital & Health Care  Health Care Provider           0  \n",
       "...                          ...                   ...         ...  \n",
       "17875          Computer Software                 Sales           0  \n",
       "17876                   Internet   Accounting/Auditing           0  \n",
       "17877                        NaN                   NaN           0  \n",
       "17878             Graphic Design                Design           0  \n",
       "17879          Computer Software           Engineering           0  \n",
       "\n",
       "[17880 rows x 10 columns]"
      ]
     },
     "execution_count": 4,
     "metadata": {},
     "output_type": "execute_result"
    }
   ],
   "source": [
    "df.drop(['job_id','title','location','department','company_profile','description','requirements','benefits'],axis = 1,inplace = True) # drops stated columns\n",
    "df"
   ]
  },
  {
   "cell_type": "code",
   "execution_count": 5,
   "metadata": {},
   "outputs": [
    {
     "data": {
      "text/plain": [
       "salary_range           15012\n",
       "telecommuting              0\n",
       "has_company_logo           0\n",
       "has_questions              0\n",
       "employment_type         3471\n",
       "required_experience     7050\n",
       "required_education      8105\n",
       "industry                4903\n",
       "function                6455\n",
       "fraudulent                 0\n",
       "dtype: int64"
      ]
     },
     "execution_count": 5,
     "metadata": {},
     "output_type": "execute_result"
    }
   ],
   "source": [
    "df.isnull().sum()#number of rows in column that contain null or NaN values  "
   ]
  },
  {
   "cell_type": "code",
   "execution_count": 6,
   "metadata": {},
   "outputs": [
    {
     "data": {
      "text/html": [
       "<div>\n",
       "<style scoped>\n",
       "    .dataframe tbody tr th:only-of-type {\n",
       "        vertical-align: middle;\n",
       "    }\n",
       "\n",
       "    .dataframe tbody tr th {\n",
       "        vertical-align: top;\n",
       "    }\n",
       "\n",
       "    .dataframe thead th {\n",
       "        text-align: right;\n",
       "    }\n",
       "</style>\n",
       "<table border=\"1\" class=\"dataframe\">\n",
       "  <thead>\n",
       "    <tr style=\"text-align: right;\">\n",
       "      <th></th>\n",
       "      <th>salary_range</th>\n",
       "      <th>telecommuting</th>\n",
       "      <th>has_company_logo</th>\n",
       "      <th>has_questions</th>\n",
       "      <th>employment_type</th>\n",
       "      <th>required_experience</th>\n",
       "      <th>required_education</th>\n",
       "      <th>industry</th>\n",
       "      <th>function</th>\n",
       "      <th>fraudulent</th>\n",
       "    </tr>\n",
       "  </thead>\n",
       "  <tbody>\n",
       "    <tr>\n",
       "      <th>0</th>\n",
       "      <td>20000-28000</td>\n",
       "      <td>0</td>\n",
       "      <td>1</td>\n",
       "      <td>1</td>\n",
       "      <td>Full-time</td>\n",
       "      <td>Mid-Senior level</td>\n",
       "      <td>Master's Degree</td>\n",
       "      <td>Online Media</td>\n",
       "      <td>Management</td>\n",
       "      <td>0</td>\n",
       "    </tr>\n",
       "    <tr>\n",
       "      <th>1</th>\n",
       "      <td>100000-120000</td>\n",
       "      <td>0</td>\n",
       "      <td>0</td>\n",
       "      <td>0</td>\n",
       "      <td>Full-time</td>\n",
       "      <td>Mid-Senior level</td>\n",
       "      <td>Bachelor's Degree</td>\n",
       "      <td>Information Technology and Services</td>\n",
       "      <td>Information Technology</td>\n",
       "      <td>0</td>\n",
       "    </tr>\n",
       "    <tr>\n",
       "      <th>2</th>\n",
       "      <td>120000-150000</td>\n",
       "      <td>0</td>\n",
       "      <td>1</td>\n",
       "      <td>1</td>\n",
       "      <td>Full-time</td>\n",
       "      <td>Executive</td>\n",
       "      <td>Bachelor's Degree</td>\n",
       "      <td>Facilities Services</td>\n",
       "      <td>Sales</td>\n",
       "      <td>0</td>\n",
       "    </tr>\n",
       "    <tr>\n",
       "      <th>3</th>\n",
       "      <td>100000-120000</td>\n",
       "      <td>0</td>\n",
       "      <td>1</td>\n",
       "      <td>0</td>\n",
       "      <td>Full-time</td>\n",
       "      <td>Executive</td>\n",
       "      <td>Unspecified</td>\n",
       "      <td>Internet</td>\n",
       "      <td>Sales</td>\n",
       "      <td>0</td>\n",
       "    </tr>\n",
       "    <tr>\n",
       "      <th>4</th>\n",
       "      <td>50000-65000</td>\n",
       "      <td>0</td>\n",
       "      <td>1</td>\n",
       "      <td>0</td>\n",
       "      <td>Full-time</td>\n",
       "      <td>Associate</td>\n",
       "      <td>Unspecified</td>\n",
       "      <td>Computer Software</td>\n",
       "      <td>Engineering</td>\n",
       "      <td>0</td>\n",
       "    </tr>\n",
       "    <tr>\n",
       "      <th>...</th>\n",
       "      <td>...</td>\n",
       "      <td>...</td>\n",
       "      <td>...</td>\n",
       "      <td>...</td>\n",
       "      <td>...</td>\n",
       "      <td>...</td>\n",
       "      <td>...</td>\n",
       "      <td>...</td>\n",
       "      <td>...</td>\n",
       "      <td>...</td>\n",
       "    </tr>\n",
       "    <tr>\n",
       "      <th>2115</th>\n",
       "      <td>0-0</td>\n",
       "      <td>0</td>\n",
       "      <td>1</td>\n",
       "      <td>0</td>\n",
       "      <td>Contract</td>\n",
       "      <td>Mid-Senior level</td>\n",
       "      <td>Bachelor's Degree</td>\n",
       "      <td>Information Technology and Services</td>\n",
       "      <td>Information Technology</td>\n",
       "      <td>0</td>\n",
       "    </tr>\n",
       "    <tr>\n",
       "      <th>2116</th>\n",
       "      <td>80000-100000</td>\n",
       "      <td>0</td>\n",
       "      <td>1</td>\n",
       "      <td>0</td>\n",
       "      <td>Full-time</td>\n",
       "      <td>Mid-Senior level</td>\n",
       "      <td>Bachelor's Degree</td>\n",
       "      <td>Computer Software</td>\n",
       "      <td>Design</td>\n",
       "      <td>0</td>\n",
       "    </tr>\n",
       "    <tr>\n",
       "      <th>2117</th>\n",
       "      <td>18000-20000</td>\n",
       "      <td>0</td>\n",
       "      <td>1</td>\n",
       "      <td>1</td>\n",
       "      <td>Full-time</td>\n",
       "      <td>Entry level</td>\n",
       "      <td>Bachelor's Degree</td>\n",
       "      <td>Real Estate</td>\n",
       "      <td>Sales</td>\n",
       "      <td>0</td>\n",
       "    </tr>\n",
       "    <tr>\n",
       "      <th>2118</th>\n",
       "      <td>18000-19000</td>\n",
       "      <td>0</td>\n",
       "      <td>1</td>\n",
       "      <td>0</td>\n",
       "      <td>Full-time</td>\n",
       "      <td>Entry level</td>\n",
       "      <td>Unspecified</td>\n",
       "      <td>Human Resources</td>\n",
       "      <td>Sales</td>\n",
       "      <td>0</td>\n",
       "    </tr>\n",
       "    <tr>\n",
       "      <th>2119</th>\n",
       "      <td>80000-100000</td>\n",
       "      <td>0</td>\n",
       "      <td>0</td>\n",
       "      <td>0</td>\n",
       "      <td>Full-time</td>\n",
       "      <td>Mid-Senior level</td>\n",
       "      <td>Bachelor's Degree</td>\n",
       "      <td>Computer Software</td>\n",
       "      <td>Information Technology</td>\n",
       "      <td>0</td>\n",
       "    </tr>\n",
       "  </tbody>\n",
       "</table>\n",
       "<p>2120 rows × 10 columns</p>\n",
       "</div>"
      ],
      "text/plain": [
       "       salary_range  telecommuting  has_company_logo  has_questions  \\\n",
       "0       20000-28000              0                 1              1   \n",
       "1     100000-120000              0                 0              0   \n",
       "2     120000-150000              0                 1              1   \n",
       "3     100000-120000              0                 1              0   \n",
       "4       50000-65000              0                 1              0   \n",
       "...             ...            ...               ...            ...   \n",
       "2115            0-0              0                 1              0   \n",
       "2116   80000-100000              0                 1              0   \n",
       "2117    18000-20000              0                 1              1   \n",
       "2118    18000-19000              0                 1              0   \n",
       "2119   80000-100000              0                 0              0   \n",
       "\n",
       "     employment_type required_experience required_education  \\\n",
       "0          Full-time    Mid-Senior level    Master's Degree   \n",
       "1          Full-time    Mid-Senior level  Bachelor's Degree   \n",
       "2          Full-time           Executive  Bachelor's Degree   \n",
       "3          Full-time           Executive        Unspecified   \n",
       "4          Full-time           Associate        Unspecified   \n",
       "...              ...                 ...                ...   \n",
       "2115        Contract    Mid-Senior level  Bachelor's Degree   \n",
       "2116       Full-time    Mid-Senior level  Bachelor's Degree   \n",
       "2117       Full-time         Entry level  Bachelor's Degree   \n",
       "2118       Full-time         Entry level        Unspecified   \n",
       "2119       Full-time    Mid-Senior level  Bachelor's Degree   \n",
       "\n",
       "                                 industry                function  fraudulent  \n",
       "0                            Online Media              Management           0  \n",
       "1     Information Technology and Services  Information Technology           0  \n",
       "2                     Facilities Services                   Sales           0  \n",
       "3                                Internet                   Sales           0  \n",
       "4                       Computer Software             Engineering           0  \n",
       "...                                   ...                     ...         ...  \n",
       "2115  Information Technology and Services  Information Technology           0  \n",
       "2116                    Computer Software                  Design           0  \n",
       "2117                          Real Estate                   Sales           0  \n",
       "2118                      Human Resources                   Sales           0  \n",
       "2119                    Computer Software  Information Technology           0  \n",
       "\n",
       "[2120 rows x 10 columns]"
      ]
     },
     "execution_count": 6,
     "metadata": {},
     "output_type": "execute_result"
    }
   ],
   "source": [
    "df.dropna(inplace=True) # Drop the rows where at least one element is null or NaN\n",
    "df.reset_index(drop=True,inplace=True,) # Resets the index \n",
    "df"
   ]
  },
  {
   "cell_type": "code",
   "execution_count": 7,
   "metadata": {},
   "outputs": [
    {
     "data": {
      "text/plain": [
       "salary_range           0\n",
       "telecommuting          0\n",
       "has_company_logo       0\n",
       "has_questions          0\n",
       "employment_type        0\n",
       "required_experience    0\n",
       "required_education     0\n",
       "industry               0\n",
       "function               0\n",
       "fraudulent             0\n",
       "dtype: int64"
      ]
     },
     "execution_count": 7,
     "metadata": {},
     "output_type": "execute_result"
    }
   ],
   "source": [
    "df.isnull().sum()#number of rows in column that contain null or NaN values"
   ]
  },
  {
   "cell_type": "code",
   "execution_count": 8,
   "metadata": {},
   "outputs": [
    {
     "data": {
      "text/plain": [
       "370"
      ]
     },
     "execution_count": 8,
     "metadata": {},
     "output_type": "execute_result"
    }
   ],
   "source": [
    "df.duplicated().sum()#number of duplicate rows "
   ]
  },
  {
   "cell_type": "code",
   "execution_count": 9,
   "metadata": {},
   "outputs": [
    {
     "data": {
      "text/html": [
       "<div>\n",
       "<style scoped>\n",
       "    .dataframe tbody tr th:only-of-type {\n",
       "        vertical-align: middle;\n",
       "    }\n",
       "\n",
       "    .dataframe tbody tr th {\n",
       "        vertical-align: top;\n",
       "    }\n",
       "\n",
       "    .dataframe thead th {\n",
       "        text-align: right;\n",
       "    }\n",
       "</style>\n",
       "<table border=\"1\" class=\"dataframe\">\n",
       "  <thead>\n",
       "    <tr style=\"text-align: right;\">\n",
       "      <th></th>\n",
       "      <th>salary_range</th>\n",
       "      <th>telecommuting</th>\n",
       "      <th>has_company_logo</th>\n",
       "      <th>has_questions</th>\n",
       "      <th>employment_type</th>\n",
       "      <th>required_experience</th>\n",
       "      <th>required_education</th>\n",
       "      <th>industry</th>\n",
       "      <th>function</th>\n",
       "      <th>fraudulent</th>\n",
       "    </tr>\n",
       "  </thead>\n",
       "  <tbody>\n",
       "    <tr>\n",
       "      <th>0</th>\n",
       "      <td>20000-28000</td>\n",
       "      <td>0</td>\n",
       "      <td>1</td>\n",
       "      <td>1</td>\n",
       "      <td>Full-time</td>\n",
       "      <td>Mid-Senior level</td>\n",
       "      <td>Master's Degree</td>\n",
       "      <td>Online Media</td>\n",
       "      <td>Management</td>\n",
       "      <td>0</td>\n",
       "    </tr>\n",
       "    <tr>\n",
       "      <th>1</th>\n",
       "      <td>100000-120000</td>\n",
       "      <td>0</td>\n",
       "      <td>0</td>\n",
       "      <td>0</td>\n",
       "      <td>Full-time</td>\n",
       "      <td>Mid-Senior level</td>\n",
       "      <td>Bachelor's Degree</td>\n",
       "      <td>Information Technology and Services</td>\n",
       "      <td>Information Technology</td>\n",
       "      <td>0</td>\n",
       "    </tr>\n",
       "    <tr>\n",
       "      <th>2</th>\n",
       "      <td>120000-150000</td>\n",
       "      <td>0</td>\n",
       "      <td>1</td>\n",
       "      <td>1</td>\n",
       "      <td>Full-time</td>\n",
       "      <td>Executive</td>\n",
       "      <td>Bachelor's Degree</td>\n",
       "      <td>Facilities Services</td>\n",
       "      <td>Sales</td>\n",
       "      <td>0</td>\n",
       "    </tr>\n",
       "    <tr>\n",
       "      <th>3</th>\n",
       "      <td>100000-120000</td>\n",
       "      <td>0</td>\n",
       "      <td>1</td>\n",
       "      <td>0</td>\n",
       "      <td>Full-time</td>\n",
       "      <td>Executive</td>\n",
       "      <td>Unspecified</td>\n",
       "      <td>Internet</td>\n",
       "      <td>Sales</td>\n",
       "      <td>0</td>\n",
       "    </tr>\n",
       "    <tr>\n",
       "      <th>4</th>\n",
       "      <td>50000-65000</td>\n",
       "      <td>0</td>\n",
       "      <td>1</td>\n",
       "      <td>0</td>\n",
       "      <td>Full-time</td>\n",
       "      <td>Associate</td>\n",
       "      <td>Unspecified</td>\n",
       "      <td>Computer Software</td>\n",
       "      <td>Engineering</td>\n",
       "      <td>0</td>\n",
       "    </tr>\n",
       "    <tr>\n",
       "      <th>...</th>\n",
       "      <td>...</td>\n",
       "      <td>...</td>\n",
       "      <td>...</td>\n",
       "      <td>...</td>\n",
       "      <td>...</td>\n",
       "      <td>...</td>\n",
       "      <td>...</td>\n",
       "      <td>...</td>\n",
       "      <td>...</td>\n",
       "      <td>...</td>\n",
       "    </tr>\n",
       "    <tr>\n",
       "      <th>1745</th>\n",
       "      <td>0-30000</td>\n",
       "      <td>0</td>\n",
       "      <td>0</td>\n",
       "      <td>0</td>\n",
       "      <td>Other</td>\n",
       "      <td>Not Applicable</td>\n",
       "      <td>Unspecified</td>\n",
       "      <td>Staffing and Recruiting</td>\n",
       "      <td>Advertising</td>\n",
       "      <td>1</td>\n",
       "    </tr>\n",
       "    <tr>\n",
       "      <th>1746</th>\n",
       "      <td>0-0</td>\n",
       "      <td>0</td>\n",
       "      <td>1</td>\n",
       "      <td>0</td>\n",
       "      <td>Contract</td>\n",
       "      <td>Mid-Senior level</td>\n",
       "      <td>Bachelor's Degree</td>\n",
       "      <td>Information Technology and Services</td>\n",
       "      <td>Information Technology</td>\n",
       "      <td>0</td>\n",
       "    </tr>\n",
       "    <tr>\n",
       "      <th>1747</th>\n",
       "      <td>80000-100000</td>\n",
       "      <td>0</td>\n",
       "      <td>1</td>\n",
       "      <td>0</td>\n",
       "      <td>Full-time</td>\n",
       "      <td>Mid-Senior level</td>\n",
       "      <td>Bachelor's Degree</td>\n",
       "      <td>Computer Software</td>\n",
       "      <td>Design</td>\n",
       "      <td>0</td>\n",
       "    </tr>\n",
       "    <tr>\n",
       "      <th>1748</th>\n",
       "      <td>18000-20000</td>\n",
       "      <td>0</td>\n",
       "      <td>1</td>\n",
       "      <td>1</td>\n",
       "      <td>Full-time</td>\n",
       "      <td>Entry level</td>\n",
       "      <td>Bachelor's Degree</td>\n",
       "      <td>Real Estate</td>\n",
       "      <td>Sales</td>\n",
       "      <td>0</td>\n",
       "    </tr>\n",
       "    <tr>\n",
       "      <th>1749</th>\n",
       "      <td>18000-19000</td>\n",
       "      <td>0</td>\n",
       "      <td>1</td>\n",
       "      <td>0</td>\n",
       "      <td>Full-time</td>\n",
       "      <td>Entry level</td>\n",
       "      <td>Unspecified</td>\n",
       "      <td>Human Resources</td>\n",
       "      <td>Sales</td>\n",
       "      <td>0</td>\n",
       "    </tr>\n",
       "  </tbody>\n",
       "</table>\n",
       "<p>1750 rows × 10 columns</p>\n",
       "</div>"
      ],
      "text/plain": [
       "       salary_range  telecommuting  has_company_logo  has_questions  \\\n",
       "0       20000-28000              0                 1              1   \n",
       "1     100000-120000              0                 0              0   \n",
       "2     120000-150000              0                 1              1   \n",
       "3     100000-120000              0                 1              0   \n",
       "4       50000-65000              0                 1              0   \n",
       "...             ...            ...               ...            ...   \n",
       "1745        0-30000              0                 0              0   \n",
       "1746            0-0              0                 1              0   \n",
       "1747   80000-100000              0                 1              0   \n",
       "1748    18000-20000              0                 1              1   \n",
       "1749    18000-19000              0                 1              0   \n",
       "\n",
       "     employment_type required_experience required_education  \\\n",
       "0          Full-time    Mid-Senior level    Master's Degree   \n",
       "1          Full-time    Mid-Senior level  Bachelor's Degree   \n",
       "2          Full-time           Executive  Bachelor's Degree   \n",
       "3          Full-time           Executive        Unspecified   \n",
       "4          Full-time           Associate        Unspecified   \n",
       "...              ...                 ...                ...   \n",
       "1745           Other      Not Applicable        Unspecified   \n",
       "1746        Contract    Mid-Senior level  Bachelor's Degree   \n",
       "1747       Full-time    Mid-Senior level  Bachelor's Degree   \n",
       "1748       Full-time         Entry level  Bachelor's Degree   \n",
       "1749       Full-time         Entry level        Unspecified   \n",
       "\n",
       "                                 industry                function  fraudulent  \n",
       "0                            Online Media              Management           0  \n",
       "1     Information Technology and Services  Information Technology           0  \n",
       "2                     Facilities Services                   Sales           0  \n",
       "3                                Internet                   Sales           0  \n",
       "4                       Computer Software             Engineering           0  \n",
       "...                                   ...                     ...         ...  \n",
       "1745              Staffing and Recruiting             Advertising           1  \n",
       "1746  Information Technology and Services  Information Technology           0  \n",
       "1747                    Computer Software                  Design           0  \n",
       "1748                          Real Estate                   Sales           0  \n",
       "1749                      Human Resources                   Sales           0  \n",
       "\n",
       "[1750 rows x 10 columns]"
      ]
     },
     "execution_count": 9,
     "metadata": {},
     "output_type": "execute_result"
    }
   ],
   "source": [
    "df.drop_duplicates(keep = 'first',inplace=True) # drops duplicate rows and treats first seen instance as the unique record\n",
    "df.reset_index(drop=True,inplace=True,) # Resets the index \n",
    "df"
   ]
  },
  {
   "cell_type": "code",
   "execution_count": 10,
   "metadata": {},
   "outputs": [
    {
     "data": {
      "text/plain": [
       "0"
      ]
     },
     "execution_count": 10,
     "metadata": {},
     "output_type": "execute_result"
    }
   ],
   "source": [
    "df.duplicated().sum()#number of duplicate rows "
   ]
  },
  {
   "cell_type": "code",
   "execution_count": 11,
   "metadata": {},
   "outputs": [
    {
     "data": {
      "text/plain": [
       "(1750, 10)"
      ]
     },
     "execution_count": 11,
     "metadata": {},
     "output_type": "execute_result"
    }
   ],
   "source": [
    "df.shape"
   ]
  },
  {
   "cell_type": "code",
   "execution_count": 12,
   "metadata": {},
   "outputs": [
    {
     "name": "stdout",
     "output_type": "stream",
     "text": [
      "['20000-28000', '100000-120000', '120000-150000', '100000-120000', '50000-65000', '40000-50000', '65000-70000', '75-115', '16000-28000', '95000-115000', '15000-18000', '50000-70000', '70000-90000', '10000-14000', '50-110', '28000-45000', '35000-40000', '44000-57000', '18500-28000', '55000-75000', '30000-35000', '20000-40000', '360000-600000', '30000-40000', '80000-100000', '30000-40000', '52000-78000', '30000-40000', '15750-15750', '40000-65000', '30000-37000', '45000-67000', '80000-100000', '180000-216000', '45000-60000', '45000-65000', '70000-90000', '0-1000', '36000-40000', '19000-19000', '60000-120000', '120000-15000000', '42000-55000', '90000-120000', '55000-75000', '10000-14000', '30000-40000', '1600-1700', '30000-70000', '32000-40000', '50-100', '0-0', '45000-67000', '9000-17000', '23040-28800', '105-110', '80000-110000', '100000-180000', '45000-55000', '25000-42000', '40000-60000', '600000-750000', '120000-170000', '45000-90000', '70000-90000', '25000-30000', '55000-75000', '65000-75000', '100000-130000', '18000-20000', '22000-30000', '5000-6000', '36000-52000', '11000-11000', '0-0', '110000-150000', '50000-150000', '100000-600000', '55000-75000', '80000-120000', '50000-60000', '45000-50000', '50000-72000', '0-0', '35000-150000', '60000-100000', '70000-125000', '50000-80000', '0-130000', '20000-20000', '25000-35000', '120000-165000', '23000-32000', '18000-21000', '25000-30000', '100000-300000', '55000-60000', '65000-70000', '40000-85000', '30000-40000', '40000-70000', '75000-85000', '320000-350000', '110000-140000', '30000-40000', '20000-35000', '65000-75000', '0-0', '20000-26000', '70000-120000', '90000-120000', '9600-18000', '28000-40000', '90-120', '4001-6000', '18000-30000', '30000-45000', '60000-75000', '30000-1000000', '40000-55000', '80000-120000', '20000-30000', '90000-100000', '0-0', '9000-12000', '180000-240000', '75-100', '1161-1161', '36000-48000', '30000-50000', '40000-50000', '50000-70000', '35000-45000', '60000-80000', '35-45', '15000-20000', '50000-60000', '16000-18500', '16000-24000', '40000-45000', '28000-35000', '100000-130000', '80000-105000', '36000-63000', '0-0', '60000-90000', '124000-375000', '55000-65000', '30000-50000', '50000-55000', '33000-36000', '40000-45000', '50000-70000', '40000-50000', '26000-30000', '40000-80000', '9600-57600', '75000-125000', '24000-26000', '36000-50000', '85-140', '75000-80000', '50000-70000', '0-90000', '22000-30000', '4500-4500', '25000-50000', '70000-120000', '65000-80000', '2500-3500', '130000-160000', '30000-50000', '15000-30000', '65000-85000', '21120-30000', '40000-50000', '48000-57600', '65000-75000', '40000-50000', '0-0', '500000-650000', '28000-42000', '0-1000', '50000-80000', '65000-75000', '80000-90000', '23000-32000', '13-20', '1000-2000', '35000-65000', '45000-65000', '1000-20000', '18000-22000', '25000-35000', '30000-50000', '50000-120000', '20000-25000', '40000-50000', '75000-150000', '0-30000', '15000-17000', '0-0', '14000-18000', '80000-120000', '0-0', '0-0', '115000-125000', '90000-120000', '60000-80000', '21-63000', '90000-120000', '18000-25000', '35000-50000', '3-Apr', '15500-50000', '120000-240000', '60000-70000', '20000-38000', '23000-28000', '75000-125000', '52000-57000', '4-Apr', '12000-12000', '16000-18500', '1600-1600', '50000-70000', '18000-20000', '8000-10000', '4500-4500', '40000-50000', '25000-30000', '80000-120000', '60000-80000', '65000-80000', '0-0', '0-0', '20000-23000', '15000-18000', '55000-65000', '45000-45000', '96000-100000', '40000-40000', '40000-50000', '33000-34000', '18000-44000', '16000-20000', '50000-70000', '70000-125000', '35000-45000', '30000-50000', '1050-1100', '50000-100000', '21000-21000', '50000-70000', '0-0', '400000-650000', 'Oct-15', '50000-55000', '800000-2000000', '335000-400000', '1000-1000', '30000-50000', '4500-4500', '19000-24000', '45000-50000', '30000-45000', '600000-750000', '45000-70000', '60000-80000', '1000-1000', '4500-4500', '25000-35000', '40000-50000', '55-65', '30000-37000', '80000-120000', '23000-96000', '110000-120000', '50-70', '480000-600000', '0-0', '1000-5000', '40000-50000', '25000-30000', '80000-175000', '35000-45000', '20000-25000', '45000-60000', '65000-85000', '90000-110000', '100000-150000', '75000-100000', '24900-31200', '42000-48000', '40000-50000', '75000-85000', '27000-28000', '35000-45000', '45000-50000', '18000-23000', '10716-16074', '24000-26000', '50000-65000', '35000-50000', '0-9360000', '4500-4500', '36000-50000', '20000-30000', '45000-85000', '0-268', '50000-70000', '20000-30000', '35000-45000', '20000-22000', '21120-30000', '37400-37400', '49000-58000', '80000-80000', '25000-40000', '15000-16000', '18000-22000', '39000-100000', '140000-150000', '30000-40000', '30000-40000', '45000-60000', '35000-45000', '40000-50000', '25000-35000', '0-30000', '40000-50000', '20-3075', '18000-23000', '0-0', '60000-80000', '80000-100000', '70000-85000', '25000-100000', '16500-18500', '40000-50000', '60000-120000', '20000-35000', '50000-55000', '36000-42000', '40000-140000', '60000-75000', '800000000-1200000000', '35000-55000', '80000-100000', '60000-90000', '75000-100000', '42000-62000', '70000-300000', '30000-45000', '60000-80000', '77000-97000', '0-0', '16000-18000', '40000-45000', '40000-70000', '4500-4500', '80000-130000', '13-20', '30000-37500', '50-60', '32500-37500', '140000-160000', '90-120', '19800-20800', '24000-32000', '13000-14000', '19000-19000', '14000-16000', '80000-85000', '20000-50000', '0-1', '30000-50000', '90000-120000', '60000-100000', '200000-600000', '12500-15000', '65000-80000', '9000-12000', '50000-60000', '23000-24000', '70000-150000', '35000-40000', '35000-40000', '70000-85000', '17000-20000', '18720-21840', '30000-35000', '29000-33000', '20000-24000', '400000-600000', '17000-22000', '40000-100000', '67000-70000', '40000-60000', '0-0', '19000-36000', '25000-30000', '30000-40000', '40000-50000', '540000-720000', '80000-84000', '55-65', '35000-65000', '180000-600000', '40000-55000', '14560-17680', '450-500', '35000-55000', '65000-70000', '40000-60000', '9600-14400', '45000-55000', '20-25', '55000-65000', '45000-45000', '1000-6000', '40000-60000', '45000-50000', '30160-30160', '22000-26000', '40000-45000', '66000-84000', '30000-450000', '14000-17000', '65000-75000', '18000-24000', '41000-45000', '1000-1000', '12000-17000', '30000-35000', '60000-75000', '16000-19200', '35000-60000', '50000-60000', '60000-90000', '13-15', '30000-35000', '15000-18000', '70000-80000', '18000-25000', '25000-30000', '30000-50000', '18000-30000', '24000-32000', '35000-40000', '70000-120000', '45000-50000', '80000-140000', '50000-70000', '55000-70000', '30000-40000', '0-0', '21000-21000', '65000-120000', '0-25000', '28000-35000', '18000-25000', '40000-55000', '40000-50000', '0-15000', '36000-65000', '17000-32000', '30000-60000', '0-0', '45000-55000', '55000-100000', '16000-18000', '25000-35000', '30000-35000', '45000-65000', '30000-40000', '0-0', '55-65', '200000-500000', '80000-100000', '10000-16000', '14000-40000', '200-230', '12000-45000', '25000-30000', '50000-55000', '23000-28000', '45000-65000', '30000-45000', '30000-45000', '60000-80000', '70-90', '110000-125000', '22000-25000', '22000-22000', '75000-85000', '30000-40000', '50000-65000', '2000-5000', '39000-41000', '20000-24000', '40000-50000', '30-50', '30000-36000', '90000-125000', '28000-32000', '32000-40000', '30000-45000', '55000-65000', '4500-4500', '4500-4500', '36000-42000', '1000-2000', '18000-20000', '130000-160000', '28000-35000', '17000-21000', '95000-150000', '4500-4500', '90000-130000', '70-120', '30000-30000', '32000-36000', '55000-80000', '30000-40000', '1000-3000', '350000-500000', '40000-60000', '20000-25000', '18000-21000', '20000-40000', '3000000-4000000', '25000-28000', '100000-160000', '4500-4500', '35000-60000', '40000-60000', '30000-100000', '25000-30000', '20000-35000', '130000-145000', '4500-4500', '60000-80000', '35-45', '1000-2000', '20000-100000', '41600-62400', '1000-2000', '4500-4500', '18000-20000', '40000-50000', '6266624-8582080', '60000-80000', '2000-2000', '20000-500000', '45000-70000', '140000-200000', '42000-80000', '60000-120000', '30000-60000', '35000-50000', '34000-50000', '24000-28000', '0-0', '80000-100000', '90000-110000', '20000-30000', '30000-35000', '70000-90000', '800000-1200000', '28000-32000', '50000-70000', '60-150', '20000-25000', '18000-22000', '15000-30000', '15000-25000', '4500-4500', '14000-18000', '0-0', '60000-100000', '50000-75000', '65000-80000', '20000-40000', '35000-40000', '40000', '0-0', '20000-36000', '29120-37440', '30000-48000', '45000-96000', '45000-50000', '50000-72000', '1000-1500', '20000-24000', '100000-120000', '20000-24000', '60000-100000', '7200-1380000', '25000-30000', '7200-1380000', '65000-70000', '0-0', '180000-200000', '35000-60000', '40000-50000', '20800-22880', '22000-28000', '30000-60000', '0-0', '100000-120000', '35000-50000', '120000-150000', '35000-45000', '0-0', '2000-40000', '70000-80000', '50000-55000', '100000-120000', '12000-17500', '0-0', '34000-38000', '45000-55000', '23000-28000', '20000-30000', '750-750', '20000-40000', '35000-55000', '35-40', '50000-75000', '25000-35000', '20000-30000', '18000-25000', '600000-800000', '60000-100000', '50000-55000', '20800-22800', '50000-65000', '55000-75000', '75000-100000', '16000-24000', '27-30', '25000-40000', '250000-500000', '250000-500000', '0-0', '85-95', '80000-100000', '20000-50000', '70000-80000', '50000-85000', '500000-800000', '115000-125000', '60000-75000', '20-22', '50000-70000', '40000-60000', '35000-45000', '27500-36000', '50000-55000', '0-0', '45000-60000', '80-100', '60-75', '80000-120000', '33000-36000', '15-25', '30000-35000', '0-65000', '60000-70000', '30000-40000', '17000-30000', '50000-60000', '21600-31200', '23000-30000', '35-45', '45-48', '26000-52000', '900-900', '85000-95000', '160000-180000', '50000-300000', '60000-75000', '80000-95000', '80000-110000', '100-150', '40000-65000', '28000-32000', '100-120', '23000-26000', '23000-28000', '26000-30000', '30000-40000', '45000-70000', '26000-32000', '28000-32000', '23000-28000', '32000-40000', '90000-125000', '50000-60000', '0-0', '25000-45000', '32000-52000', '130000-180000', '25000-35000', '20000-25000', '3000-6000', '40000-50000', '50000-75000', '30000-35000', '40000-50000', '3000-6000', '2000-4000', '65000-85000', '45000-50000', '40000-50000', '60000-120000', '60000-120000', '20000-27000', '25000-35000', '50000-80000', '2000000-15000000', '50000-120000', '65000-72000', '6000000-7000000', '40000-50000', '15000-30000', '20000-40000', '40000-50000', '50000-65000', '18000-18000', '55000-85000', '80000-100000', '7200-1380000', '120000-120000', '7200-1380000', '20000-60000', '20000-60000', '60000-80000', '11000-11000', '18000-25000', '60000-70000', '30000-40000', '70000-85000', '70000-90000', '60000-65000', '35000-45000', '70000-80000', '0-0', '20000-50000', '25000-50000', '200000-250000', '20000-40000', '20000-60000', '18000-21000', '37500-42500', '20000-50000', '100000-130000', '29000-32000', '18000-22000', '45-65', '0-35000', '40000-60000', '80000-90000', '14000-22400', '140000-150000', '70000-90000', '70000-90000', '150000-160000', '140000-160000', '60000-75000', '80000-100000', '0-0', '40000-50000', '25000-30000', '35000-45000', '200-250', '40000-65000', '70000-90000', '30000-38000', '0-0', '15000-200000', '80000-95000', '120000-150000', '120000-150000', '65000-85000', '80000-95000', '50-90', '22000-30000', '18500-25000', '25000-40000', '20000-24000', '25000-30000', '75000-90000', '92000-141000', '35-60', '1000-26000', '76800-96000', '25000-35000', '32000-45000', '35000-40000', '35000-45000', '85000-110000', '90000-120000', '30000-40000', '12000-19000', '55000-70000', '19000-24000', '40000-50000', '30000-34000', '196000-230000', '50000-80000', '50000-60000', '50000-100000', '42000-58000', '150000-16500000', '60000-70000', '50000-70000', '35000-65000', '60000-73000', '50000-65000', '60000-70000', '0-50000', '240000-240000', '45000-50000', '70000-90000', '500000-800000', '30000-60000', '17-20', '30000-40000', '0-0', '100000-250000', '130000-150000', '20000-30000', '90000-100000', '25000-30000', '40000-80000', '0-0', '40000-70000', '20000-30000', '24000-27600', '30000-40000', '15000-30000', '8000-13000', '80000-100000', '28000-32000', '55000-60000', '40000-60000', '40000-50000', '100000-130000', '85000-120000', '40-50', '60000-80000', '35000-75000', '16000-18500', '318278-400000', '28000-40000', '45000-60000', '30000-48000', '100000-117000', '45000-95000', '24000-28000', '25000-30000', '20000-50000', '14400-24000', '24-25', '35-40', '0-0', '250000-300000', '175-225', '60000-80000', '125-175', '14000-15000', '0-0', '350000-500000', '23000-28000', '10000-30000', '40000-45000', '20000-25000', '120-160', '0-0', '40000-60000', '10000-100000', '65000-70000', '40000-100000', '65000-100000', '48000-60000', '50000-70000', '100000-150000', '33280-37440', '65000-100000', '60000-80000', '0-0', '107000-115000', '100000-110000', '80000-89000', '75000-100000', '0-16000', '14-15', '65000-80000', '18720-19760', '40000-100000', '95000-110000', '60000-75000', '0-0', '8000-10000', '45000-60000', '18000-20000', '35000-36000', '60000-75000', '190000-220000', '40000-60000', '0-0', '35000-70000', '24000-28000', '100000-130000', '30000-40000', '37000-40000', '35000-40000', '0-0', '1500000-2500000', '65000-110000', '90000-100000', '22000-28000', '700000-1200000', '80000-95000', '40000-45000', '42000-62000', '15000-20000', '27000-32000', '20000-40000', '35000-45000', '50000-100000', '0-100000', '23000-27000', '40000-50000', '40000-50000', '23000-28000', '26000-32000', '25000-30000', '10000-20000', '30000-50000', '10000-20000', '1000-1000', '10000-100000', '20000-50000', '22000-28000', '25000-35000', '70000-90000', '420000-540000', '45000-50000', '10800-10800', '25000-31000', '55000-68000', '90000-120000', '40000-70000', '40000-60000', '40000-50000', '50000-65000', '20000-25000', '15750-15750', '75000-100000', '40000-45000', '30000-35000', '30000-40000', '1300000-1800000', '40000-54000', '10000-120000', '100000-125000', '42000-54000', '0-150000', '100000-150000', '70000-100000', '20000-35000', '0-0', '45000-58000', '20000-50000', '0-110406', '35000-55000', '80000-120000', '21000-25000', '28000-30000', '17-19', '24000-29000', '35000-55000', '26000-31000', '25000-35000', '22000-25000', '40000-80000', '25000-30000', '70000-80000', '30000-35000', '55000-60000', '40000-45000', '168000-216000', '30000-50000', '90000-120000', '80000-120000', '125000-135000', '10000-20000', '30-50', '10000-10000', '40000-100000', '10000-30000', '50000-65000', '200000-300000', '30000-40000', '0-0', '180000-240000', '25000-30000', '70000-85000', '50000-80000', '35000-40000', '16500-18500', '850-1000', '80000-120000', '9000-10000', '40-100', '900000-1200000', '33000-34000', '33000-34000', '30000-50000', '26000-28000', '17000-35000', '27000-32000', '100000-150000', '60000-120000', '30000-40000', '30000-40000', '200000-250000', '35000-45000', '40000-45000', '10000-20000', '65000-85000', '55000-68000', '50000-50000', '50000-70000', '0-0', '70000-90000', '10-Oct', '30000-45000', '29000-32000', '20000-30000', '45000-60000', '40000-45000', '25000-45000', '24000-36000', '100000-115000', '70000-120000', '100000-200000', '80000-85000', '25000-35000', '105000-125000', '70000-100000', '70000-100000', '30000-34000', '50000-70000', '45000-60000', '65000-90000', '10000-22000', '30000-35000', '0-0', '50000-80000', '45000-55000', '40000-60000', 'Jun-18', '30000-40000', '3000-60000', '28000-30000', '18500-27000', '50000-80000', '71000-72000', '0-35000', '30000-65000', '80000-120000', '100-150', '30000-40000', '90000-150000', '30000-50000', '30000-70000', '50000-65000', '65000-120000', '60-70', '35000-50000', '30000-45000', '70-90', '200000-240000', '40000-50000', '900-1000', '80000-100000', '115000-125000', '80000-100000', '45000-50000', '75000-85000', '35-40', '40000-65000', '60000-120000', '60000-70000', '29000-40000', '55000-60000', '0-0', '60000-90000', '1000000-1400000', '30000-70000', '0-0', '11-Nov', '1150-1150', '55000-90000', '25000-25000', '10-Nov', '80000-100000', '10-Oct', '10-Nov', '956-956', '10-Oct', '40000-47000', '42000-42000', '60000-75000', '130000-160000', '45000-70000', '0-100000', '40000-50000', '40000-60000', '40000-45000', '30000-30000', '30000-70000', '0-0', '65000-80000', '120000-125000', '90000-130000', '80000-130000', '30000-45000', '0-0', '90000-110000', '90000-110000', '125000-150000', '70000-100000', '40000-45000', '0-0', '40000-70000', '21000-35000', '50000-80000', '55000-65000', '55000-100000', '14000-25000', '50000-70000', '50000-80000', '240000-300000', '300000-420000', '11-Dec', '0-90000', '14000-30000', '150-175', '90000-100000', '28000-32000', '40000-50000', '35-45', '70000-80000', '2-Apr', '30000-45000', '25000-40000', '90000-140000', '42000-60000', '15000-19000', '0-48000', '175000-250000', '80-110', '50000-60000', '0-0', '15000-20000', '180000-240000', '20000-30000', '21600-31200', '18000-22000', '30000-48000', '55000-80000', '22000-40000', '150000-250000', '80000-150000', '25000-65000', '60000-72000', '550000-720000', '32000-36000', '35000-45000', '35000-50000', '30-40', '9240-13200', '52000-78000', '120000-180000', '50000-58000', '30000-60000', '55000-79000', '14000-14000', '25000-35000', '10000-18000', '30000-80000', '90000-150000', '20000-25000', '80000-120000', '750000-1200000', '41000-50000', '36000-54000', '19000-24000', '45000-50000', '200000-700000', '10000-12000', '24000-30000', '100000-170000', '40000-90000', '1200-3000', '200000-600000', '90000-110000', '90000-140000', '150000-200000', '29000-33000', '24000-36000', '50-100', '18000-20000', '200000-300000', '18000-20000', '77000-87000', '0-0', '20000-26000', '50000-90000', '78000-80000', '35000-40000', '0-0', '35000-55000', '40000-70000', '0-60000', '28000-32000', '115000-130000', '24000-36000', '60000-80000', '500000000-800000000', '0-30000', '20000-24000', '35000-50000', '16500-18500', '18000-22000', '18000-25000', '28000-34000', '50000-80000', '70000-105000', '14000-18000', '80000-110000', '46000-62000', '2000000-2263000', '6000-20000', '17500-17500', '15500-17500', '100000-200000', '20000-27000', '96000-240000', '40000-45000', '20000-30000', '15400-19600', '25000-30000', '100000-120000', '45000-50000', '50000-55000', '20000-35000', '0-0', '45000-63000', '32000-40000', '60000-100000', '45000-65000', '85000-95000', '100000-120000', '30000-50000', '50000-75000', '15000-20000', '0-0', '32000-50000', '85000-100000', '48000-60000', '45000-120000', '75000-110000', '65000-80000', '33000-100000', '0-0', '45000-80000', '65000-75000', '16000-19000', '45000-50000', '25000-35000', '45000-60000', '18000-20000', '30000-48000', '45000-55000', '90000-115000', '35000-50000', '55000-70000', '40000-40000', '18000-22000', '45000-70000', '50000-100000', '1300-1500', '600000-840000', '19500-24000', '50-70', '14000-30000', '28000-32000', '130000-160000', '0-0', '72000-144000', '60000-80000', '35000-45000', '18000-18000', '70000-85000', '60000-75000', '50000-80000', '43000-69000', '8000-14000', '50000-70000', '80000-100000', '100000-120000', '80000-90000', '50000-70000', '20000-40000', '65000-80000', '80000-100000', '30000-45000', '20000-24000', '80000-140000', '60000-75000', '40000-50000', '65-75', '40000-50000', '50-70', '75000-100000', '16500-18500', '15600-15600', '70-150', '11-Nov', '60-90', '1200-1400', '60-85', '30000-30000', '528000-636000', '110000-120000', '200000-240000', '115-120', '45-70', '60000-80000', '8000-14000', '35000-55000', '80000-110000', '65000-85000', '962-962', '2500-2800', '30000-31000', '80-120', '78000-115000', '40000-60000', '50000-70000', '30000-32000', '0-0', '300000-400000', '11000-25000', '75000-90000', '72000-108000', '48000-55000', '16000-20000', '1000000-1500000', '80000-130000', '45000-70000', '50000-90000', '35000-40000', '40000-55000', '30000-40000', '22000-28000', '40000-60000', '50-65', '42000-80000', '70000-100000', '400000-500000', '50000-65000', '16000-18000', '60000-150000', '45000-60000', '30-50', '60000-150000', '30000-50000', '41600-50000', '80000-100000', '104000-120000', '25000-40000', '60000-65000', '90000-110000', '63000-63000', '180000-240000', '16000-18000', '30000-37000', '37000-41600', '40000-80000', '52000-100000', '60000-70000', '80000-120000', '120000-300000', '35000-45000', '90000-110000', '130000-170000', '26000-30000', '20000-25000', '91000-150000', '60000-95000', '7500-8000', '60000-150000', '10000-100000', '36000-60000', '45000-65000', '40000-100000', '12500-12500', '60000-70000', '65000-77000', '18000-25000', '40-50', '30000-40000', '33000-39000', '70000-80000', '300000-500000', '100000-120000', '25000-28000', '1920-2000', '30000-35000', '50000-60000', '60000-80000', '0-0', '50000-70000', '300000-600000', '192000-288000', '32000-42000', '50000-65000', '28000-35000', '80000-90000', '45000-72000', '55000-65000', '50000-70000', '96000-120000', '70000-95000', '0-0', '16000-20000', '48000-60000', '45000-50000', '30000-40000', '30000-45000', '40000-100000', '85000-100000', '0-70000', '40000-50000', '50000-80000', '18000-25000', '50000-60000', '60000-100000', '19000-19000', '1000-1400', '35000-35000', '7-12000', '20000-25000', '60000-80000', '10000-25000', '115000-160000', '25000-35000', '130000-150000', '50000-90000', '70000-100000', '70000-100000', '30000-35000', '60000-160000', '30000-50000', '42000-60000', '45000-55000', '1000-4000', '65000-85000', '30000-49000', '50000-80000', '18000-26000', '80000-120000', '30000-35000', '60000-65000', '35000-45000', '0-0', '26000-30000', '30000-42000', '50-65', '0-115', '70000-100000', '22000-28000', '30000-40700', '12000-18000', '100000-130000', '110000-135000', '40-60', '20000-30000', '12000-18000', '45000-80000', '16000-25000', '15000-25000', '25-35', '0-0', '25000-31000', '8000-20000', '300000-500000', '25000-30000', '0-0', '90000-140000', '55000-70000', '35000-40000', '35000-50000', '50000-60000', '16000-22000', '60000-90000', '80000-120000', '50000-85000', '18000-26000', '65000-90000', '15000-20000', '50000-65000', '24960-27040', '0-0', '75000-120000', '65000-80000', '100000-150000', '55000-755000', '0-0', '50000-80000', '55000-70000', '2000-5000', '48000-58000', '60000-80000', '0-0', '48000-60000', '20000-24000', '110000-140000', '10-Oct', '70000-90000', '96000-144000', '100000-125000', '100000-200000', '144000-192000', '45000-55000', '45-85', '19200-33600', '100000-130000', '35000-65000', '90000-130000', '70000-90000', '120000-264000', '27000-30000', '18720-18720', '80000-110000', '13000-18000', '85000-120000', '13000-14000', '20000-24000', '0-0', '0-0', '1600-19000', '16000-18500', '45000-60000', '45000-50000', '40000-70000', '20000-28000', '0-0', '200000-240000', '120000-168000', '0-0', '30000-50000', '24000-30000', '85000-110000', '36000-42000', '75000-110000', '30000-30000', '65000-120000', '35000-45000', '75000-95000', '3000-4000', '30000-48000', '45000-60000', '60000-75000', '175000-275000', '32000-35000', '50000-90000', '35000-40000', '25000-45000', '110000-150000', '55000-65000', '21000-36000', '35000-42000', '28000-35000', '75000-85000', '60000-85000', '11000-25000', '60000-70000', '40000-45000', '30000-35000', '200000-280000', '40000-50000', '40000-45000', '30000-45000', '50000-100000', '40000-50000', '22-28', '30000-33000', '300000-420000', '25000-35000', '240000-600000', '11000-25000', '18000-20000', '18000-20000', '80000-90000', '100000-200000', '30000-45000', '65000-125000', '25000-35000', '10000-15000', '50000-70000', '50-70', '13000-14000', '13000-14000', '45000-85000', '30000-50000', '120000-160000', '32000-45000', '45000-65000', '0-0', '300000-450000', '65000-100000', '10000-30000', '90-150', '45000-175000', '25000-35000', '85000-150000', '200000-400000', '48000-58000', '25000-40000', '30000-40000', '65000-140000', '45-80', '8000-9000', '40000-60000', '360000-400000', '20000-30000', '40000-45000', '40000-45000', '70000-200000', '15-17', '100000-130000', '30000-32000', '96000-100000', '60000-90000', '20000-21000', '55-72', '80000-110000', '45-80', '0-0', '0-25000', '40000-50000', '60000-100000', '40000-90000', '25000-35000', '90000-120000', '30000-40000', '45-67', '55-67', '30000-40000', '120000-140000', '48-60', '27000-29000', '125000-135000', '75000-100000', '50000-100000', '45-55', '20800-20800', '90000-110000', '29000-32000', '40000-60000', '1050-1050', '40000-50000', '40000-65000', '50000-100000', '18000-20000', '13-15', '75000-110000', '95000-105000', '60000-65000', '4500-4500', '14000-36000', '85000-100000', '85000-90000', '14500-19000', '55000-69000', '50000-55000', '50000-60000', '55000-65000', '30000-40000', '360000-500000', '168000-216000', '55000-65000', '22000-26000', '60000-80000', '26000-28000', '15000-30000', '140-160', '42000-48000', '39000-41000', '30000-30000', '100000-110000', '5000-7000', '50000-60000', '10000-250000', '30000-35000', '55000-68000', '7200-1380000', '2000-3000', '4500-5000', '30000-42000', '0-0', '28000-32000', '35000-40000', '20-25', '26000-50000', '40000-60000', 'Dec-25', '20-25', '55000-65000', '1234-12345', '15-19', '15-19', '35000-75000', '2000-4000', '0-0', '250000-500000', '35000-45000', '48000-65000', '17-20', '53000-67000', '0-0', '17000-21000', '50000-75000', '1000-3000', '40000-45000', '3700-3800', '15000-30000', '0-30000', '0-0', '80000-100000', '18000-20000', '18000-19000']\n"
     ]
    },
    {
     "data": {
      "text/plain": [
       "(1750, 10)"
      ]
     },
     "execution_count": 12,
     "metadata": {},
     "output_type": "execute_result"
    }
   ],
   "source": [
    "#View the values within the salary_range column and shape of datframe\n",
    "salary_list = df['salary_range'].tolist()\n",
    "print (salary_list)\n",
    "df.shape"
   ]
  },
  {
   "cell_type": "code",
   "execution_count": 13,
   "metadata": {},
   "outputs": [],
   "source": [
    "#drop rows that contain dates in the salary_range column\n",
    "df2 = df[df.salary_range.str.contains(\"jan|feb|mar|apr|may|jun|jul|aug|sep|oct|nov|dec\",case=False) == False]"
   ]
  },
  {
   "cell_type": "code",
   "execution_count": 14,
   "metadata": {},
   "outputs": [
    {
     "data": {
      "text/plain": [
       "(1735, 10)"
      ]
     },
     "execution_count": 14,
     "metadata": {},
     "output_type": "execute_result"
    }
   ],
   "source": [
    "df2.shape"
   ]
  },
  {
   "cell_type": "code",
   "execution_count": 15,
   "metadata": {},
   "outputs": [
    {
     "data": {
      "text/html": [
       "<div>\n",
       "<style scoped>\n",
       "    .dataframe tbody tr th:only-of-type {\n",
       "        vertical-align: middle;\n",
       "    }\n",
       "\n",
       "    .dataframe tbody tr th {\n",
       "        vertical-align: top;\n",
       "    }\n",
       "\n",
       "    .dataframe thead th {\n",
       "        text-align: right;\n",
       "    }\n",
       "</style>\n",
       "<table border=\"1\" class=\"dataframe\">\n",
       "  <thead>\n",
       "    <tr style=\"text-align: right;\">\n",
       "      <th></th>\n",
       "      <th>salary_range</th>\n",
       "      <th>telecommuting</th>\n",
       "      <th>has_company_logo</th>\n",
       "      <th>has_questions</th>\n",
       "      <th>employment_type</th>\n",
       "      <th>required_experience</th>\n",
       "      <th>required_education</th>\n",
       "      <th>industry</th>\n",
       "      <th>function</th>\n",
       "      <th>fraudulent</th>\n",
       "    </tr>\n",
       "  </thead>\n",
       "  <tbody>\n",
       "    <tr>\n",
       "      <th>0</th>\n",
       "      <td>20000-28000</td>\n",
       "      <td>0</td>\n",
       "      <td>1</td>\n",
       "      <td>1</td>\n",
       "      <td>Full-time</td>\n",
       "      <td>Mid-Senior level</td>\n",
       "      <td>Master's Degree</td>\n",
       "      <td>Online Media</td>\n",
       "      <td>Management</td>\n",
       "      <td>0</td>\n",
       "    </tr>\n",
       "    <tr>\n",
       "      <th>1</th>\n",
       "      <td>100000-120000</td>\n",
       "      <td>0</td>\n",
       "      <td>0</td>\n",
       "      <td>0</td>\n",
       "      <td>Full-time</td>\n",
       "      <td>Mid-Senior level</td>\n",
       "      <td>Bachelor's Degree</td>\n",
       "      <td>Information Technology and Services</td>\n",
       "      <td>Information Technology</td>\n",
       "      <td>0</td>\n",
       "    </tr>\n",
       "    <tr>\n",
       "      <th>2</th>\n",
       "      <td>120000-150000</td>\n",
       "      <td>0</td>\n",
       "      <td>1</td>\n",
       "      <td>1</td>\n",
       "      <td>Full-time</td>\n",
       "      <td>Executive</td>\n",
       "      <td>Bachelor's Degree</td>\n",
       "      <td>Facilities Services</td>\n",
       "      <td>Sales</td>\n",
       "      <td>0</td>\n",
       "    </tr>\n",
       "    <tr>\n",
       "      <th>3</th>\n",
       "      <td>100000-120000</td>\n",
       "      <td>0</td>\n",
       "      <td>1</td>\n",
       "      <td>0</td>\n",
       "      <td>Full-time</td>\n",
       "      <td>Executive</td>\n",
       "      <td>Unspecified</td>\n",
       "      <td>Internet</td>\n",
       "      <td>Sales</td>\n",
       "      <td>0</td>\n",
       "    </tr>\n",
       "    <tr>\n",
       "      <th>4</th>\n",
       "      <td>50000-65000</td>\n",
       "      <td>0</td>\n",
       "      <td>1</td>\n",
       "      <td>0</td>\n",
       "      <td>Full-time</td>\n",
       "      <td>Associate</td>\n",
       "      <td>Unspecified</td>\n",
       "      <td>Computer Software</td>\n",
       "      <td>Engineering</td>\n",
       "      <td>0</td>\n",
       "    </tr>\n",
       "    <tr>\n",
       "      <th>...</th>\n",
       "      <td>...</td>\n",
       "      <td>...</td>\n",
       "      <td>...</td>\n",
       "      <td>...</td>\n",
       "      <td>...</td>\n",
       "      <td>...</td>\n",
       "      <td>...</td>\n",
       "      <td>...</td>\n",
       "      <td>...</td>\n",
       "      <td>...</td>\n",
       "    </tr>\n",
       "    <tr>\n",
       "      <th>1730</th>\n",
       "      <td>0-30000</td>\n",
       "      <td>0</td>\n",
       "      <td>0</td>\n",
       "      <td>0</td>\n",
       "      <td>Other</td>\n",
       "      <td>Not Applicable</td>\n",
       "      <td>Unspecified</td>\n",
       "      <td>Staffing and Recruiting</td>\n",
       "      <td>Advertising</td>\n",
       "      <td>1</td>\n",
       "    </tr>\n",
       "    <tr>\n",
       "      <th>1731</th>\n",
       "      <td>0-0</td>\n",
       "      <td>0</td>\n",
       "      <td>1</td>\n",
       "      <td>0</td>\n",
       "      <td>Contract</td>\n",
       "      <td>Mid-Senior level</td>\n",
       "      <td>Bachelor's Degree</td>\n",
       "      <td>Information Technology and Services</td>\n",
       "      <td>Information Technology</td>\n",
       "      <td>0</td>\n",
       "    </tr>\n",
       "    <tr>\n",
       "      <th>1732</th>\n",
       "      <td>80000-100000</td>\n",
       "      <td>0</td>\n",
       "      <td>1</td>\n",
       "      <td>0</td>\n",
       "      <td>Full-time</td>\n",
       "      <td>Mid-Senior level</td>\n",
       "      <td>Bachelor's Degree</td>\n",
       "      <td>Computer Software</td>\n",
       "      <td>Design</td>\n",
       "      <td>0</td>\n",
       "    </tr>\n",
       "    <tr>\n",
       "      <th>1733</th>\n",
       "      <td>18000-20000</td>\n",
       "      <td>0</td>\n",
       "      <td>1</td>\n",
       "      <td>1</td>\n",
       "      <td>Full-time</td>\n",
       "      <td>Entry level</td>\n",
       "      <td>Bachelor's Degree</td>\n",
       "      <td>Real Estate</td>\n",
       "      <td>Sales</td>\n",
       "      <td>0</td>\n",
       "    </tr>\n",
       "    <tr>\n",
       "      <th>1734</th>\n",
       "      <td>18000-19000</td>\n",
       "      <td>0</td>\n",
       "      <td>1</td>\n",
       "      <td>0</td>\n",
       "      <td>Full-time</td>\n",
       "      <td>Entry level</td>\n",
       "      <td>Unspecified</td>\n",
       "      <td>Human Resources</td>\n",
       "      <td>Sales</td>\n",
       "      <td>0</td>\n",
       "    </tr>\n",
       "  </tbody>\n",
       "</table>\n",
       "<p>1735 rows × 10 columns</p>\n",
       "</div>"
      ],
      "text/plain": [
       "       salary_range  telecommuting  has_company_logo  has_questions  \\\n",
       "0       20000-28000              0                 1              1   \n",
       "1     100000-120000              0                 0              0   \n",
       "2     120000-150000              0                 1              1   \n",
       "3     100000-120000              0                 1              0   \n",
       "4       50000-65000              0                 1              0   \n",
       "...             ...            ...               ...            ...   \n",
       "1730        0-30000              0                 0              0   \n",
       "1731            0-0              0                 1              0   \n",
       "1732   80000-100000              0                 1              0   \n",
       "1733    18000-20000              0                 1              1   \n",
       "1734    18000-19000              0                 1              0   \n",
       "\n",
       "     employment_type required_experience required_education  \\\n",
       "0          Full-time    Mid-Senior level    Master's Degree   \n",
       "1          Full-time    Mid-Senior level  Bachelor's Degree   \n",
       "2          Full-time           Executive  Bachelor's Degree   \n",
       "3          Full-time           Executive        Unspecified   \n",
       "4          Full-time           Associate        Unspecified   \n",
       "...              ...                 ...                ...   \n",
       "1730           Other      Not Applicable        Unspecified   \n",
       "1731        Contract    Mid-Senior level  Bachelor's Degree   \n",
       "1732       Full-time    Mid-Senior level  Bachelor's Degree   \n",
       "1733       Full-time         Entry level  Bachelor's Degree   \n",
       "1734       Full-time         Entry level        Unspecified   \n",
       "\n",
       "                                 industry                function  fraudulent  \n",
       "0                            Online Media              Management           0  \n",
       "1     Information Technology and Services  Information Technology           0  \n",
       "2                     Facilities Services                   Sales           0  \n",
       "3                                Internet                   Sales           0  \n",
       "4                       Computer Software             Engineering           0  \n",
       "...                                   ...                     ...         ...  \n",
       "1730              Staffing and Recruiting             Advertising           1  \n",
       "1731  Information Technology and Services  Information Technology           0  \n",
       "1732                    Computer Software                  Design           0  \n",
       "1733                          Real Estate                   Sales           0  \n",
       "1734                      Human Resources                   Sales           0  \n",
       "\n",
       "[1735 rows x 10 columns]"
      ]
     },
     "execution_count": 15,
     "metadata": {},
     "output_type": "execute_result"
    }
   ],
   "source": [
    "df = df2 # making df2 the main dataframe to be used \n",
    "df.reset_index(drop=True,inplace=True,) # Resets the index \n",
    "df"
   ]
  },
  {
   "cell_type": "code",
   "execution_count": 16,
   "metadata": {},
   "outputs": [
    {
     "data": {
      "text/plain": [
       "salary_range           692\n",
       "telecommuting            2\n",
       "has_company_logo         2\n",
       "has_questions            2\n",
       "employment_type          5\n",
       "required_experience      7\n",
       "required_education      13\n",
       "industry               111\n",
       "function                37\n",
       "fraudulent               2\n",
       "dtype: int64"
      ]
     },
     "execution_count": 16,
     "metadata": {},
     "output_type": "execute_result"
    }
   ],
   "source": [
    "df.nunique()# number of unique values within each colum"
   ]
  },
  {
   "cell_type": "code",
   "execution_count": 17,
   "metadata": {},
   "outputs": [
    {
     "data": {
      "text/html": [
       "<div>\n",
       "<style scoped>\n",
       "    .dataframe tbody tr th:only-of-type {\n",
       "        vertical-align: middle;\n",
       "    }\n",
       "\n",
       "    .dataframe tbody tr th {\n",
       "        vertical-align: top;\n",
       "    }\n",
       "\n",
       "    .dataframe thead th {\n",
       "        text-align: right;\n",
       "    }\n",
       "</style>\n",
       "<table border=\"1\" class=\"dataframe\">\n",
       "  <thead>\n",
       "    <tr style=\"text-align: right;\">\n",
       "      <th></th>\n",
       "      <th>x0_0-1</th>\n",
       "      <th>x0_0-1000</th>\n",
       "      <th>x0_0-100000</th>\n",
       "      <th>x0_0-110406</th>\n",
       "      <th>x0_0-115</th>\n",
       "      <th>x0_0-130000</th>\n",
       "      <th>x0_0-15000</th>\n",
       "      <th>x0_0-150000</th>\n",
       "      <th>x0_0-16000</th>\n",
       "      <th>x0_0-25000</th>\n",
       "      <th>...</th>\n",
       "      <th>x5_Public Relations</th>\n",
       "      <th>x5_Purchasing</th>\n",
       "      <th>x5_Quality Assurance</th>\n",
       "      <th>x5_Research</th>\n",
       "      <th>x5_Sales</th>\n",
       "      <th>x5_Science</th>\n",
       "      <th>x5_Strategy/Planning</th>\n",
       "      <th>x5_Supply Chain</th>\n",
       "      <th>x5_Training</th>\n",
       "      <th>x5_Writing/Editing</th>\n",
       "    </tr>\n",
       "  </thead>\n",
       "  <tbody>\n",
       "    <tr>\n",
       "      <th>0</th>\n",
       "      <td>0</td>\n",
       "      <td>0</td>\n",
       "      <td>0</td>\n",
       "      <td>0</td>\n",
       "      <td>0</td>\n",
       "      <td>0</td>\n",
       "      <td>0</td>\n",
       "      <td>0</td>\n",
       "      <td>0</td>\n",
       "      <td>0</td>\n",
       "      <td>...</td>\n",
       "      <td>0</td>\n",
       "      <td>0</td>\n",
       "      <td>0</td>\n",
       "      <td>0</td>\n",
       "      <td>0</td>\n",
       "      <td>0</td>\n",
       "      <td>0</td>\n",
       "      <td>0</td>\n",
       "      <td>0</td>\n",
       "      <td>0</td>\n",
       "    </tr>\n",
       "    <tr>\n",
       "      <th>1</th>\n",
       "      <td>0</td>\n",
       "      <td>0</td>\n",
       "      <td>0</td>\n",
       "      <td>0</td>\n",
       "      <td>0</td>\n",
       "      <td>0</td>\n",
       "      <td>0</td>\n",
       "      <td>0</td>\n",
       "      <td>0</td>\n",
       "      <td>0</td>\n",
       "      <td>...</td>\n",
       "      <td>0</td>\n",
       "      <td>0</td>\n",
       "      <td>0</td>\n",
       "      <td>0</td>\n",
       "      <td>0</td>\n",
       "      <td>0</td>\n",
       "      <td>0</td>\n",
       "      <td>0</td>\n",
       "      <td>0</td>\n",
       "      <td>0</td>\n",
       "    </tr>\n",
       "    <tr>\n",
       "      <th>2</th>\n",
       "      <td>0</td>\n",
       "      <td>0</td>\n",
       "      <td>0</td>\n",
       "      <td>0</td>\n",
       "      <td>0</td>\n",
       "      <td>0</td>\n",
       "      <td>0</td>\n",
       "      <td>0</td>\n",
       "      <td>0</td>\n",
       "      <td>0</td>\n",
       "      <td>...</td>\n",
       "      <td>0</td>\n",
       "      <td>0</td>\n",
       "      <td>0</td>\n",
       "      <td>0</td>\n",
       "      <td>1</td>\n",
       "      <td>0</td>\n",
       "      <td>0</td>\n",
       "      <td>0</td>\n",
       "      <td>0</td>\n",
       "      <td>0</td>\n",
       "    </tr>\n",
       "    <tr>\n",
       "      <th>3</th>\n",
       "      <td>0</td>\n",
       "      <td>0</td>\n",
       "      <td>0</td>\n",
       "      <td>0</td>\n",
       "      <td>0</td>\n",
       "      <td>0</td>\n",
       "      <td>0</td>\n",
       "      <td>0</td>\n",
       "      <td>0</td>\n",
       "      <td>0</td>\n",
       "      <td>...</td>\n",
       "      <td>0</td>\n",
       "      <td>0</td>\n",
       "      <td>0</td>\n",
       "      <td>0</td>\n",
       "      <td>1</td>\n",
       "      <td>0</td>\n",
       "      <td>0</td>\n",
       "      <td>0</td>\n",
       "      <td>0</td>\n",
       "      <td>0</td>\n",
       "    </tr>\n",
       "    <tr>\n",
       "      <th>4</th>\n",
       "      <td>0</td>\n",
       "      <td>0</td>\n",
       "      <td>0</td>\n",
       "      <td>0</td>\n",
       "      <td>0</td>\n",
       "      <td>0</td>\n",
       "      <td>0</td>\n",
       "      <td>0</td>\n",
       "      <td>0</td>\n",
       "      <td>0</td>\n",
       "      <td>...</td>\n",
       "      <td>0</td>\n",
       "      <td>0</td>\n",
       "      <td>0</td>\n",
       "      <td>0</td>\n",
       "      <td>0</td>\n",
       "      <td>0</td>\n",
       "      <td>0</td>\n",
       "      <td>0</td>\n",
       "      <td>0</td>\n",
       "      <td>0</td>\n",
       "    </tr>\n",
       "    <tr>\n",
       "      <th>...</th>\n",
       "      <td>...</td>\n",
       "      <td>...</td>\n",
       "      <td>...</td>\n",
       "      <td>...</td>\n",
       "      <td>...</td>\n",
       "      <td>...</td>\n",
       "      <td>...</td>\n",
       "      <td>...</td>\n",
       "      <td>...</td>\n",
       "      <td>...</td>\n",
       "      <td>...</td>\n",
       "      <td>...</td>\n",
       "      <td>...</td>\n",
       "      <td>...</td>\n",
       "      <td>...</td>\n",
       "      <td>...</td>\n",
       "      <td>...</td>\n",
       "      <td>...</td>\n",
       "      <td>...</td>\n",
       "      <td>...</td>\n",
       "      <td>...</td>\n",
       "    </tr>\n",
       "    <tr>\n",
       "      <th>1730</th>\n",
       "      <td>0</td>\n",
       "      <td>0</td>\n",
       "      <td>0</td>\n",
       "      <td>0</td>\n",
       "      <td>0</td>\n",
       "      <td>0</td>\n",
       "      <td>0</td>\n",
       "      <td>0</td>\n",
       "      <td>0</td>\n",
       "      <td>0</td>\n",
       "      <td>...</td>\n",
       "      <td>0</td>\n",
       "      <td>0</td>\n",
       "      <td>0</td>\n",
       "      <td>0</td>\n",
       "      <td>0</td>\n",
       "      <td>0</td>\n",
       "      <td>0</td>\n",
       "      <td>0</td>\n",
       "      <td>0</td>\n",
       "      <td>0</td>\n",
       "    </tr>\n",
       "    <tr>\n",
       "      <th>1731</th>\n",
       "      <td>0</td>\n",
       "      <td>0</td>\n",
       "      <td>0</td>\n",
       "      <td>0</td>\n",
       "      <td>0</td>\n",
       "      <td>0</td>\n",
       "      <td>0</td>\n",
       "      <td>0</td>\n",
       "      <td>0</td>\n",
       "      <td>0</td>\n",
       "      <td>...</td>\n",
       "      <td>0</td>\n",
       "      <td>0</td>\n",
       "      <td>0</td>\n",
       "      <td>0</td>\n",
       "      <td>0</td>\n",
       "      <td>0</td>\n",
       "      <td>0</td>\n",
       "      <td>0</td>\n",
       "      <td>0</td>\n",
       "      <td>0</td>\n",
       "    </tr>\n",
       "    <tr>\n",
       "      <th>1732</th>\n",
       "      <td>0</td>\n",
       "      <td>0</td>\n",
       "      <td>0</td>\n",
       "      <td>0</td>\n",
       "      <td>0</td>\n",
       "      <td>0</td>\n",
       "      <td>0</td>\n",
       "      <td>0</td>\n",
       "      <td>0</td>\n",
       "      <td>0</td>\n",
       "      <td>...</td>\n",
       "      <td>0</td>\n",
       "      <td>0</td>\n",
       "      <td>0</td>\n",
       "      <td>0</td>\n",
       "      <td>0</td>\n",
       "      <td>0</td>\n",
       "      <td>0</td>\n",
       "      <td>0</td>\n",
       "      <td>0</td>\n",
       "      <td>0</td>\n",
       "    </tr>\n",
       "    <tr>\n",
       "      <th>1733</th>\n",
       "      <td>0</td>\n",
       "      <td>0</td>\n",
       "      <td>0</td>\n",
       "      <td>0</td>\n",
       "      <td>0</td>\n",
       "      <td>0</td>\n",
       "      <td>0</td>\n",
       "      <td>0</td>\n",
       "      <td>0</td>\n",
       "      <td>0</td>\n",
       "      <td>...</td>\n",
       "      <td>0</td>\n",
       "      <td>0</td>\n",
       "      <td>0</td>\n",
       "      <td>0</td>\n",
       "      <td>1</td>\n",
       "      <td>0</td>\n",
       "      <td>0</td>\n",
       "      <td>0</td>\n",
       "      <td>0</td>\n",
       "      <td>0</td>\n",
       "    </tr>\n",
       "    <tr>\n",
       "      <th>1734</th>\n",
       "      <td>0</td>\n",
       "      <td>0</td>\n",
       "      <td>0</td>\n",
       "      <td>0</td>\n",
       "      <td>0</td>\n",
       "      <td>0</td>\n",
       "      <td>0</td>\n",
       "      <td>0</td>\n",
       "      <td>0</td>\n",
       "      <td>0</td>\n",
       "      <td>...</td>\n",
       "      <td>0</td>\n",
       "      <td>0</td>\n",
       "      <td>0</td>\n",
       "      <td>0</td>\n",
       "      <td>1</td>\n",
       "      <td>0</td>\n",
       "      <td>0</td>\n",
       "      <td>0</td>\n",
       "      <td>0</td>\n",
       "      <td>0</td>\n",
       "    </tr>\n",
       "  </tbody>\n",
       "</table>\n",
       "<p>1735 rows × 859 columns</p>\n",
       "</div>"
      ],
      "text/plain": [
       "      x0_0-1  x0_0-1000  x0_0-100000  x0_0-110406  x0_0-115  x0_0-130000  \\\n",
       "0          0          0            0            0         0            0   \n",
       "1          0          0            0            0         0            0   \n",
       "2          0          0            0            0         0            0   \n",
       "3          0          0            0            0         0            0   \n",
       "4          0          0            0            0         0            0   \n",
       "...      ...        ...          ...          ...       ...          ...   \n",
       "1730       0          0            0            0         0            0   \n",
       "1731       0          0            0            0         0            0   \n",
       "1732       0          0            0            0         0            0   \n",
       "1733       0          0            0            0         0            0   \n",
       "1734       0          0            0            0         0            0   \n",
       "\n",
       "      x0_0-15000  x0_0-150000  x0_0-16000  x0_0-25000  ...  \\\n",
       "0              0            0           0           0  ...   \n",
       "1              0            0           0           0  ...   \n",
       "2              0            0           0           0  ...   \n",
       "3              0            0           0           0  ...   \n",
       "4              0            0           0           0  ...   \n",
       "...          ...          ...         ...         ...  ...   \n",
       "1730           0            0           0           0  ...   \n",
       "1731           0            0           0           0  ...   \n",
       "1732           0            0           0           0  ...   \n",
       "1733           0            0           0           0  ...   \n",
       "1734           0            0           0           0  ...   \n",
       "\n",
       "      x5_Public Relations  x5_Purchasing  x5_Quality Assurance  x5_Research  \\\n",
       "0                       0              0                     0            0   \n",
       "1                       0              0                     0            0   \n",
       "2                       0              0                     0            0   \n",
       "3                       0              0                     0            0   \n",
       "4                       0              0                     0            0   \n",
       "...                   ...            ...                   ...          ...   \n",
       "1730                    0              0                     0            0   \n",
       "1731                    0              0                     0            0   \n",
       "1732                    0              0                     0            0   \n",
       "1733                    0              0                     0            0   \n",
       "1734                    0              0                     0            0   \n",
       "\n",
       "      x5_Sales  x5_Science  x5_Strategy/Planning  x5_Supply Chain  \\\n",
       "0            0           0                     0                0   \n",
       "1            0           0                     0                0   \n",
       "2            1           0                     0                0   \n",
       "3            1           0                     0                0   \n",
       "4            0           0                     0                0   \n",
       "...        ...         ...                   ...              ...   \n",
       "1730         0           0                     0                0   \n",
       "1731         0           0                     0                0   \n",
       "1732         0           0                     0                0   \n",
       "1733         1           0                     0                0   \n",
       "1734         1           0                     0                0   \n",
       "\n",
       "      x5_Training  x5_Writing/Editing  \n",
       "0               0                   0  \n",
       "1               0                   0  \n",
       "2               0                   0  \n",
       "3               0                   0  \n",
       "4               0                   0  \n",
       "...           ...                 ...  \n",
       "1730            0                   0  \n",
       "1731            0                   0  \n",
       "1732            0                   0  \n",
       "1733            0                   0  \n",
       "1734            0                   0  \n",
       "\n",
       "[1735 rows x 859 columns]"
      ]
     },
     "execution_count": 17,
     "metadata": {},
     "output_type": "execute_result"
    }
   ],
   "source": [
    "#One Hot Encoding chosen categorical features and creating a new dataframe for encoded variables \n",
    "from sklearn.preprocessing import OneHotEncoder\n",
    "encoder = OneHotEncoder(drop='first',dtype=np.int) \n",
    "dfn = df[['salary_range','employment_type','required_experience','required_education','industry','function']] \n",
    "dfn = encoder.fit_transform(dfn).toarray() \n",
    "dfn = pd.DataFrame(dfn,columns=encoder.get_feature_names())\n",
    "dfn"
   ]
  },
  {
   "cell_type": "code",
   "execution_count": 18,
   "metadata": {},
   "outputs": [
    {
     "data": {
      "text/html": [
       "<div>\n",
       "<style scoped>\n",
       "    .dataframe tbody tr th:only-of-type {\n",
       "        vertical-align: middle;\n",
       "    }\n",
       "\n",
       "    .dataframe tbody tr th {\n",
       "        vertical-align: top;\n",
       "    }\n",
       "\n",
       "    .dataframe thead th {\n",
       "        text-align: right;\n",
       "    }\n",
       "</style>\n",
       "<table border=\"1\" class=\"dataframe\">\n",
       "  <thead>\n",
       "    <tr style=\"text-align: right;\">\n",
       "      <th></th>\n",
       "      <th>salary_range</th>\n",
       "      <th>telecommuting</th>\n",
       "      <th>has_company_logo</th>\n",
       "      <th>has_questions</th>\n",
       "      <th>employment_type</th>\n",
       "      <th>required_experience</th>\n",
       "      <th>required_education</th>\n",
       "      <th>industry</th>\n",
       "      <th>function</th>\n",
       "      <th>fraudulent</th>\n",
       "      <th>...</th>\n",
       "      <th>x5_Public Relations</th>\n",
       "      <th>x5_Purchasing</th>\n",
       "      <th>x5_Quality Assurance</th>\n",
       "      <th>x5_Research</th>\n",
       "      <th>x5_Sales</th>\n",
       "      <th>x5_Science</th>\n",
       "      <th>x5_Strategy/Planning</th>\n",
       "      <th>x5_Supply Chain</th>\n",
       "      <th>x5_Training</th>\n",
       "      <th>x5_Writing/Editing</th>\n",
       "    </tr>\n",
       "  </thead>\n",
       "  <tbody>\n",
       "    <tr>\n",
       "      <th>0</th>\n",
       "      <td>20000-28000</td>\n",
       "      <td>0</td>\n",
       "      <td>1</td>\n",
       "      <td>1</td>\n",
       "      <td>Full-time</td>\n",
       "      <td>Mid-Senior level</td>\n",
       "      <td>Master's Degree</td>\n",
       "      <td>Online Media</td>\n",
       "      <td>Management</td>\n",
       "      <td>0</td>\n",
       "      <td>...</td>\n",
       "      <td>0</td>\n",
       "      <td>0</td>\n",
       "      <td>0</td>\n",
       "      <td>0</td>\n",
       "      <td>0</td>\n",
       "      <td>0</td>\n",
       "      <td>0</td>\n",
       "      <td>0</td>\n",
       "      <td>0</td>\n",
       "      <td>0</td>\n",
       "    </tr>\n",
       "    <tr>\n",
       "      <th>1</th>\n",
       "      <td>100000-120000</td>\n",
       "      <td>0</td>\n",
       "      <td>0</td>\n",
       "      <td>0</td>\n",
       "      <td>Full-time</td>\n",
       "      <td>Mid-Senior level</td>\n",
       "      <td>Bachelor's Degree</td>\n",
       "      <td>Information Technology and Services</td>\n",
       "      <td>Information Technology</td>\n",
       "      <td>0</td>\n",
       "      <td>...</td>\n",
       "      <td>0</td>\n",
       "      <td>0</td>\n",
       "      <td>0</td>\n",
       "      <td>0</td>\n",
       "      <td>0</td>\n",
       "      <td>0</td>\n",
       "      <td>0</td>\n",
       "      <td>0</td>\n",
       "      <td>0</td>\n",
       "      <td>0</td>\n",
       "    </tr>\n",
       "    <tr>\n",
       "      <th>2</th>\n",
       "      <td>120000-150000</td>\n",
       "      <td>0</td>\n",
       "      <td>1</td>\n",
       "      <td>1</td>\n",
       "      <td>Full-time</td>\n",
       "      <td>Executive</td>\n",
       "      <td>Bachelor's Degree</td>\n",
       "      <td>Facilities Services</td>\n",
       "      <td>Sales</td>\n",
       "      <td>0</td>\n",
       "      <td>...</td>\n",
       "      <td>0</td>\n",
       "      <td>0</td>\n",
       "      <td>0</td>\n",
       "      <td>0</td>\n",
       "      <td>1</td>\n",
       "      <td>0</td>\n",
       "      <td>0</td>\n",
       "      <td>0</td>\n",
       "      <td>0</td>\n",
       "      <td>0</td>\n",
       "    </tr>\n",
       "    <tr>\n",
       "      <th>3</th>\n",
       "      <td>100000-120000</td>\n",
       "      <td>0</td>\n",
       "      <td>1</td>\n",
       "      <td>0</td>\n",
       "      <td>Full-time</td>\n",
       "      <td>Executive</td>\n",
       "      <td>Unspecified</td>\n",
       "      <td>Internet</td>\n",
       "      <td>Sales</td>\n",
       "      <td>0</td>\n",
       "      <td>...</td>\n",
       "      <td>0</td>\n",
       "      <td>0</td>\n",
       "      <td>0</td>\n",
       "      <td>0</td>\n",
       "      <td>1</td>\n",
       "      <td>0</td>\n",
       "      <td>0</td>\n",
       "      <td>0</td>\n",
       "      <td>0</td>\n",
       "      <td>0</td>\n",
       "    </tr>\n",
       "    <tr>\n",
       "      <th>4</th>\n",
       "      <td>50000-65000</td>\n",
       "      <td>0</td>\n",
       "      <td>1</td>\n",
       "      <td>0</td>\n",
       "      <td>Full-time</td>\n",
       "      <td>Associate</td>\n",
       "      <td>Unspecified</td>\n",
       "      <td>Computer Software</td>\n",
       "      <td>Engineering</td>\n",
       "      <td>0</td>\n",
       "      <td>...</td>\n",
       "      <td>0</td>\n",
       "      <td>0</td>\n",
       "      <td>0</td>\n",
       "      <td>0</td>\n",
       "      <td>0</td>\n",
       "      <td>0</td>\n",
       "      <td>0</td>\n",
       "      <td>0</td>\n",
       "      <td>0</td>\n",
       "      <td>0</td>\n",
       "    </tr>\n",
       "    <tr>\n",
       "      <th>...</th>\n",
       "      <td>...</td>\n",
       "      <td>...</td>\n",
       "      <td>...</td>\n",
       "      <td>...</td>\n",
       "      <td>...</td>\n",
       "      <td>...</td>\n",
       "      <td>...</td>\n",
       "      <td>...</td>\n",
       "      <td>...</td>\n",
       "      <td>...</td>\n",
       "      <td>...</td>\n",
       "      <td>...</td>\n",
       "      <td>...</td>\n",
       "      <td>...</td>\n",
       "      <td>...</td>\n",
       "      <td>...</td>\n",
       "      <td>...</td>\n",
       "      <td>...</td>\n",
       "      <td>...</td>\n",
       "      <td>...</td>\n",
       "      <td>...</td>\n",
       "    </tr>\n",
       "    <tr>\n",
       "      <th>1730</th>\n",
       "      <td>0-30000</td>\n",
       "      <td>0</td>\n",
       "      <td>0</td>\n",
       "      <td>0</td>\n",
       "      <td>Other</td>\n",
       "      <td>Not Applicable</td>\n",
       "      <td>Unspecified</td>\n",
       "      <td>Staffing and Recruiting</td>\n",
       "      <td>Advertising</td>\n",
       "      <td>1</td>\n",
       "      <td>...</td>\n",
       "      <td>0</td>\n",
       "      <td>0</td>\n",
       "      <td>0</td>\n",
       "      <td>0</td>\n",
       "      <td>0</td>\n",
       "      <td>0</td>\n",
       "      <td>0</td>\n",
       "      <td>0</td>\n",
       "      <td>0</td>\n",
       "      <td>0</td>\n",
       "    </tr>\n",
       "    <tr>\n",
       "      <th>1731</th>\n",
       "      <td>0-0</td>\n",
       "      <td>0</td>\n",
       "      <td>1</td>\n",
       "      <td>0</td>\n",
       "      <td>Contract</td>\n",
       "      <td>Mid-Senior level</td>\n",
       "      <td>Bachelor's Degree</td>\n",
       "      <td>Information Technology and Services</td>\n",
       "      <td>Information Technology</td>\n",
       "      <td>0</td>\n",
       "      <td>...</td>\n",
       "      <td>0</td>\n",
       "      <td>0</td>\n",
       "      <td>0</td>\n",
       "      <td>0</td>\n",
       "      <td>0</td>\n",
       "      <td>0</td>\n",
       "      <td>0</td>\n",
       "      <td>0</td>\n",
       "      <td>0</td>\n",
       "      <td>0</td>\n",
       "    </tr>\n",
       "    <tr>\n",
       "      <th>1732</th>\n",
       "      <td>80000-100000</td>\n",
       "      <td>0</td>\n",
       "      <td>1</td>\n",
       "      <td>0</td>\n",
       "      <td>Full-time</td>\n",
       "      <td>Mid-Senior level</td>\n",
       "      <td>Bachelor's Degree</td>\n",
       "      <td>Computer Software</td>\n",
       "      <td>Design</td>\n",
       "      <td>0</td>\n",
       "      <td>...</td>\n",
       "      <td>0</td>\n",
       "      <td>0</td>\n",
       "      <td>0</td>\n",
       "      <td>0</td>\n",
       "      <td>0</td>\n",
       "      <td>0</td>\n",
       "      <td>0</td>\n",
       "      <td>0</td>\n",
       "      <td>0</td>\n",
       "      <td>0</td>\n",
       "    </tr>\n",
       "    <tr>\n",
       "      <th>1733</th>\n",
       "      <td>18000-20000</td>\n",
       "      <td>0</td>\n",
       "      <td>1</td>\n",
       "      <td>1</td>\n",
       "      <td>Full-time</td>\n",
       "      <td>Entry level</td>\n",
       "      <td>Bachelor's Degree</td>\n",
       "      <td>Real Estate</td>\n",
       "      <td>Sales</td>\n",
       "      <td>0</td>\n",
       "      <td>...</td>\n",
       "      <td>0</td>\n",
       "      <td>0</td>\n",
       "      <td>0</td>\n",
       "      <td>0</td>\n",
       "      <td>1</td>\n",
       "      <td>0</td>\n",
       "      <td>0</td>\n",
       "      <td>0</td>\n",
       "      <td>0</td>\n",
       "      <td>0</td>\n",
       "    </tr>\n",
       "    <tr>\n",
       "      <th>1734</th>\n",
       "      <td>18000-19000</td>\n",
       "      <td>0</td>\n",
       "      <td>1</td>\n",
       "      <td>0</td>\n",
       "      <td>Full-time</td>\n",
       "      <td>Entry level</td>\n",
       "      <td>Unspecified</td>\n",
       "      <td>Human Resources</td>\n",
       "      <td>Sales</td>\n",
       "      <td>0</td>\n",
       "      <td>...</td>\n",
       "      <td>0</td>\n",
       "      <td>0</td>\n",
       "      <td>0</td>\n",
       "      <td>0</td>\n",
       "      <td>1</td>\n",
       "      <td>0</td>\n",
       "      <td>0</td>\n",
       "      <td>0</td>\n",
       "      <td>0</td>\n",
       "      <td>0</td>\n",
       "    </tr>\n",
       "  </tbody>\n",
       "</table>\n",
       "<p>1735 rows × 869 columns</p>\n",
       "</div>"
      ],
      "text/plain": [
       "       salary_range  telecommuting  has_company_logo  has_questions  \\\n",
       "0       20000-28000              0                 1              1   \n",
       "1     100000-120000              0                 0              0   \n",
       "2     120000-150000              0                 1              1   \n",
       "3     100000-120000              0                 1              0   \n",
       "4       50000-65000              0                 1              0   \n",
       "...             ...            ...               ...            ...   \n",
       "1730        0-30000              0                 0              0   \n",
       "1731            0-0              0                 1              0   \n",
       "1732   80000-100000              0                 1              0   \n",
       "1733    18000-20000              0                 1              1   \n",
       "1734    18000-19000              0                 1              0   \n",
       "\n",
       "     employment_type required_experience required_education  \\\n",
       "0          Full-time    Mid-Senior level    Master's Degree   \n",
       "1          Full-time    Mid-Senior level  Bachelor's Degree   \n",
       "2          Full-time           Executive  Bachelor's Degree   \n",
       "3          Full-time           Executive        Unspecified   \n",
       "4          Full-time           Associate        Unspecified   \n",
       "...              ...                 ...                ...   \n",
       "1730           Other      Not Applicable        Unspecified   \n",
       "1731        Contract    Mid-Senior level  Bachelor's Degree   \n",
       "1732       Full-time    Mid-Senior level  Bachelor's Degree   \n",
       "1733       Full-time         Entry level  Bachelor's Degree   \n",
       "1734       Full-time         Entry level        Unspecified   \n",
       "\n",
       "                                 industry                function  fraudulent  \\\n",
       "0                            Online Media              Management           0   \n",
       "1     Information Technology and Services  Information Technology           0   \n",
       "2                     Facilities Services                   Sales           0   \n",
       "3                                Internet                   Sales           0   \n",
       "4                       Computer Software             Engineering           0   \n",
       "...                                   ...                     ...         ...   \n",
       "1730              Staffing and Recruiting             Advertising           1   \n",
       "1731  Information Technology and Services  Information Technology           0   \n",
       "1732                    Computer Software                  Design           0   \n",
       "1733                          Real Estate                   Sales           0   \n",
       "1734                      Human Resources                   Sales           0   \n",
       "\n",
       "      ...  x5_Public Relations  x5_Purchasing  x5_Quality Assurance  \\\n",
       "0     ...                    0              0                     0   \n",
       "1     ...                    0              0                     0   \n",
       "2     ...                    0              0                     0   \n",
       "3     ...                    0              0                     0   \n",
       "4     ...                    0              0                     0   \n",
       "...   ...                  ...            ...                   ...   \n",
       "1730  ...                    0              0                     0   \n",
       "1731  ...                    0              0                     0   \n",
       "1732  ...                    0              0                     0   \n",
       "1733  ...                    0              0                     0   \n",
       "1734  ...                    0              0                     0   \n",
       "\n",
       "      x5_Research  x5_Sales  x5_Science  x5_Strategy/Planning  \\\n",
       "0               0         0           0                     0   \n",
       "1               0         0           0                     0   \n",
       "2               0         1           0                     0   \n",
       "3               0         1           0                     0   \n",
       "4               0         0           0                     0   \n",
       "...           ...       ...         ...                   ...   \n",
       "1730            0         0           0                     0   \n",
       "1731            0         0           0                     0   \n",
       "1732            0         0           0                     0   \n",
       "1733            0         1           0                     0   \n",
       "1734            0         1           0                     0   \n",
       "\n",
       "      x5_Supply Chain  x5_Training  x5_Writing/Editing  \n",
       "0                   0            0                   0  \n",
       "1                   0            0                   0  \n",
       "2                   0            0                   0  \n",
       "3                   0            0                   0  \n",
       "4                   0            0                   0  \n",
       "...               ...          ...                 ...  \n",
       "1730                0            0                   0  \n",
       "1731                0            0                   0  \n",
       "1732                0            0                   0  \n",
       "1733                0            0                   0  \n",
       "1734                0            0                   0  \n",
       "\n",
       "[1735 rows x 869 columns]"
      ]
     },
     "execution_count": 18,
     "metadata": {},
     "output_type": "execute_result"
    }
   ],
   "source": [
    "df = pd.concat([df,dfn],axis=1) # concat encoded columns to the dataframe\n",
    "df"
   ]
  },
  {
   "cell_type": "code",
   "execution_count": 19,
   "metadata": {},
   "outputs": [
    {
     "data": {
      "text/html": [
       "<div>\n",
       "<style scoped>\n",
       "    .dataframe tbody tr th:only-of-type {\n",
       "        vertical-align: middle;\n",
       "    }\n",
       "\n",
       "    .dataframe tbody tr th {\n",
       "        vertical-align: top;\n",
       "    }\n",
       "\n",
       "    .dataframe thead th {\n",
       "        text-align: right;\n",
       "    }\n",
       "</style>\n",
       "<table border=\"1\" class=\"dataframe\">\n",
       "  <thead>\n",
       "    <tr style=\"text-align: right;\">\n",
       "      <th></th>\n",
       "      <th>telecommuting</th>\n",
       "      <th>has_company_logo</th>\n",
       "      <th>has_questions</th>\n",
       "      <th>fraudulent</th>\n",
       "      <th>x0_0-1</th>\n",
       "      <th>x0_0-1000</th>\n",
       "      <th>x0_0-100000</th>\n",
       "      <th>x0_0-110406</th>\n",
       "      <th>x0_0-115</th>\n",
       "      <th>x0_0-130000</th>\n",
       "      <th>...</th>\n",
       "      <th>x5_Public Relations</th>\n",
       "      <th>x5_Purchasing</th>\n",
       "      <th>x5_Quality Assurance</th>\n",
       "      <th>x5_Research</th>\n",
       "      <th>x5_Sales</th>\n",
       "      <th>x5_Science</th>\n",
       "      <th>x5_Strategy/Planning</th>\n",
       "      <th>x5_Supply Chain</th>\n",
       "      <th>x5_Training</th>\n",
       "      <th>x5_Writing/Editing</th>\n",
       "    </tr>\n",
       "  </thead>\n",
       "  <tbody>\n",
       "    <tr>\n",
       "      <th>0</th>\n",
       "      <td>0</td>\n",
       "      <td>1</td>\n",
       "      <td>1</td>\n",
       "      <td>0</td>\n",
       "      <td>0</td>\n",
       "      <td>0</td>\n",
       "      <td>0</td>\n",
       "      <td>0</td>\n",
       "      <td>0</td>\n",
       "      <td>0</td>\n",
       "      <td>...</td>\n",
       "      <td>0</td>\n",
       "      <td>0</td>\n",
       "      <td>0</td>\n",
       "      <td>0</td>\n",
       "      <td>0</td>\n",
       "      <td>0</td>\n",
       "      <td>0</td>\n",
       "      <td>0</td>\n",
       "      <td>0</td>\n",
       "      <td>0</td>\n",
       "    </tr>\n",
       "    <tr>\n",
       "      <th>1</th>\n",
       "      <td>0</td>\n",
       "      <td>0</td>\n",
       "      <td>0</td>\n",
       "      <td>0</td>\n",
       "      <td>0</td>\n",
       "      <td>0</td>\n",
       "      <td>0</td>\n",
       "      <td>0</td>\n",
       "      <td>0</td>\n",
       "      <td>0</td>\n",
       "      <td>...</td>\n",
       "      <td>0</td>\n",
       "      <td>0</td>\n",
       "      <td>0</td>\n",
       "      <td>0</td>\n",
       "      <td>0</td>\n",
       "      <td>0</td>\n",
       "      <td>0</td>\n",
       "      <td>0</td>\n",
       "      <td>0</td>\n",
       "      <td>0</td>\n",
       "    </tr>\n",
       "    <tr>\n",
       "      <th>2</th>\n",
       "      <td>0</td>\n",
       "      <td>1</td>\n",
       "      <td>1</td>\n",
       "      <td>0</td>\n",
       "      <td>0</td>\n",
       "      <td>0</td>\n",
       "      <td>0</td>\n",
       "      <td>0</td>\n",
       "      <td>0</td>\n",
       "      <td>0</td>\n",
       "      <td>...</td>\n",
       "      <td>0</td>\n",
       "      <td>0</td>\n",
       "      <td>0</td>\n",
       "      <td>0</td>\n",
       "      <td>1</td>\n",
       "      <td>0</td>\n",
       "      <td>0</td>\n",
       "      <td>0</td>\n",
       "      <td>0</td>\n",
       "      <td>0</td>\n",
       "    </tr>\n",
       "    <tr>\n",
       "      <th>3</th>\n",
       "      <td>0</td>\n",
       "      <td>1</td>\n",
       "      <td>0</td>\n",
       "      <td>0</td>\n",
       "      <td>0</td>\n",
       "      <td>0</td>\n",
       "      <td>0</td>\n",
       "      <td>0</td>\n",
       "      <td>0</td>\n",
       "      <td>0</td>\n",
       "      <td>...</td>\n",
       "      <td>0</td>\n",
       "      <td>0</td>\n",
       "      <td>0</td>\n",
       "      <td>0</td>\n",
       "      <td>1</td>\n",
       "      <td>0</td>\n",
       "      <td>0</td>\n",
       "      <td>0</td>\n",
       "      <td>0</td>\n",
       "      <td>0</td>\n",
       "    </tr>\n",
       "    <tr>\n",
       "      <th>4</th>\n",
       "      <td>0</td>\n",
       "      <td>1</td>\n",
       "      <td>0</td>\n",
       "      <td>0</td>\n",
       "      <td>0</td>\n",
       "      <td>0</td>\n",
       "      <td>0</td>\n",
       "      <td>0</td>\n",
       "      <td>0</td>\n",
       "      <td>0</td>\n",
       "      <td>...</td>\n",
       "      <td>0</td>\n",
       "      <td>0</td>\n",
       "      <td>0</td>\n",
       "      <td>0</td>\n",
       "      <td>0</td>\n",
       "      <td>0</td>\n",
       "      <td>0</td>\n",
       "      <td>0</td>\n",
       "      <td>0</td>\n",
       "      <td>0</td>\n",
       "    </tr>\n",
       "    <tr>\n",
       "      <th>...</th>\n",
       "      <td>...</td>\n",
       "      <td>...</td>\n",
       "      <td>...</td>\n",
       "      <td>...</td>\n",
       "      <td>...</td>\n",
       "      <td>...</td>\n",
       "      <td>...</td>\n",
       "      <td>...</td>\n",
       "      <td>...</td>\n",
       "      <td>...</td>\n",
       "      <td>...</td>\n",
       "      <td>...</td>\n",
       "      <td>...</td>\n",
       "      <td>...</td>\n",
       "      <td>...</td>\n",
       "      <td>...</td>\n",
       "      <td>...</td>\n",
       "      <td>...</td>\n",
       "      <td>...</td>\n",
       "      <td>...</td>\n",
       "      <td>...</td>\n",
       "    </tr>\n",
       "    <tr>\n",
       "      <th>1730</th>\n",
       "      <td>0</td>\n",
       "      <td>0</td>\n",
       "      <td>0</td>\n",
       "      <td>1</td>\n",
       "      <td>0</td>\n",
       "      <td>0</td>\n",
       "      <td>0</td>\n",
       "      <td>0</td>\n",
       "      <td>0</td>\n",
       "      <td>0</td>\n",
       "      <td>...</td>\n",
       "      <td>0</td>\n",
       "      <td>0</td>\n",
       "      <td>0</td>\n",
       "      <td>0</td>\n",
       "      <td>0</td>\n",
       "      <td>0</td>\n",
       "      <td>0</td>\n",
       "      <td>0</td>\n",
       "      <td>0</td>\n",
       "      <td>0</td>\n",
       "    </tr>\n",
       "    <tr>\n",
       "      <th>1731</th>\n",
       "      <td>0</td>\n",
       "      <td>1</td>\n",
       "      <td>0</td>\n",
       "      <td>0</td>\n",
       "      <td>0</td>\n",
       "      <td>0</td>\n",
       "      <td>0</td>\n",
       "      <td>0</td>\n",
       "      <td>0</td>\n",
       "      <td>0</td>\n",
       "      <td>...</td>\n",
       "      <td>0</td>\n",
       "      <td>0</td>\n",
       "      <td>0</td>\n",
       "      <td>0</td>\n",
       "      <td>0</td>\n",
       "      <td>0</td>\n",
       "      <td>0</td>\n",
       "      <td>0</td>\n",
       "      <td>0</td>\n",
       "      <td>0</td>\n",
       "    </tr>\n",
       "    <tr>\n",
       "      <th>1732</th>\n",
       "      <td>0</td>\n",
       "      <td>1</td>\n",
       "      <td>0</td>\n",
       "      <td>0</td>\n",
       "      <td>0</td>\n",
       "      <td>0</td>\n",
       "      <td>0</td>\n",
       "      <td>0</td>\n",
       "      <td>0</td>\n",
       "      <td>0</td>\n",
       "      <td>...</td>\n",
       "      <td>0</td>\n",
       "      <td>0</td>\n",
       "      <td>0</td>\n",
       "      <td>0</td>\n",
       "      <td>0</td>\n",
       "      <td>0</td>\n",
       "      <td>0</td>\n",
       "      <td>0</td>\n",
       "      <td>0</td>\n",
       "      <td>0</td>\n",
       "    </tr>\n",
       "    <tr>\n",
       "      <th>1733</th>\n",
       "      <td>0</td>\n",
       "      <td>1</td>\n",
       "      <td>1</td>\n",
       "      <td>0</td>\n",
       "      <td>0</td>\n",
       "      <td>0</td>\n",
       "      <td>0</td>\n",
       "      <td>0</td>\n",
       "      <td>0</td>\n",
       "      <td>0</td>\n",
       "      <td>...</td>\n",
       "      <td>0</td>\n",
       "      <td>0</td>\n",
       "      <td>0</td>\n",
       "      <td>0</td>\n",
       "      <td>1</td>\n",
       "      <td>0</td>\n",
       "      <td>0</td>\n",
       "      <td>0</td>\n",
       "      <td>0</td>\n",
       "      <td>0</td>\n",
       "    </tr>\n",
       "    <tr>\n",
       "      <th>1734</th>\n",
       "      <td>0</td>\n",
       "      <td>1</td>\n",
       "      <td>0</td>\n",
       "      <td>0</td>\n",
       "      <td>0</td>\n",
       "      <td>0</td>\n",
       "      <td>0</td>\n",
       "      <td>0</td>\n",
       "      <td>0</td>\n",
       "      <td>0</td>\n",
       "      <td>...</td>\n",
       "      <td>0</td>\n",
       "      <td>0</td>\n",
       "      <td>0</td>\n",
       "      <td>0</td>\n",
       "      <td>1</td>\n",
       "      <td>0</td>\n",
       "      <td>0</td>\n",
       "      <td>0</td>\n",
       "      <td>0</td>\n",
       "      <td>0</td>\n",
       "    </tr>\n",
       "  </tbody>\n",
       "</table>\n",
       "<p>1735 rows × 863 columns</p>\n",
       "</div>"
      ],
      "text/plain": [
       "      telecommuting  has_company_logo  has_questions  fraudulent  x0_0-1  \\\n",
       "0                 0                 1              1           0       0   \n",
       "1                 0                 0              0           0       0   \n",
       "2                 0                 1              1           0       0   \n",
       "3                 0                 1              0           0       0   \n",
       "4                 0                 1              0           0       0   \n",
       "...             ...               ...            ...         ...     ...   \n",
       "1730              0                 0              0           1       0   \n",
       "1731              0                 1              0           0       0   \n",
       "1732              0                 1              0           0       0   \n",
       "1733              0                 1              1           0       0   \n",
       "1734              0                 1              0           0       0   \n",
       "\n",
       "      x0_0-1000  x0_0-100000  x0_0-110406  x0_0-115  x0_0-130000  ...  \\\n",
       "0             0            0            0         0            0  ...   \n",
       "1             0            0            0         0            0  ...   \n",
       "2             0            0            0         0            0  ...   \n",
       "3             0            0            0         0            0  ...   \n",
       "4             0            0            0         0            0  ...   \n",
       "...         ...          ...          ...       ...          ...  ...   \n",
       "1730          0            0            0         0            0  ...   \n",
       "1731          0            0            0         0            0  ...   \n",
       "1732          0            0            0         0            0  ...   \n",
       "1733          0            0            0         0            0  ...   \n",
       "1734          0            0            0         0            0  ...   \n",
       "\n",
       "      x5_Public Relations  x5_Purchasing  x5_Quality Assurance  x5_Research  \\\n",
       "0                       0              0                     0            0   \n",
       "1                       0              0                     0            0   \n",
       "2                       0              0                     0            0   \n",
       "3                       0              0                     0            0   \n",
       "4                       0              0                     0            0   \n",
       "...                   ...            ...                   ...          ...   \n",
       "1730                    0              0                     0            0   \n",
       "1731                    0              0                     0            0   \n",
       "1732                    0              0                     0            0   \n",
       "1733                    0              0                     0            0   \n",
       "1734                    0              0                     0            0   \n",
       "\n",
       "      x5_Sales  x5_Science  x5_Strategy/Planning  x5_Supply Chain  \\\n",
       "0            0           0                     0                0   \n",
       "1            0           0                     0                0   \n",
       "2            1           0                     0                0   \n",
       "3            1           0                     0                0   \n",
       "4            0           0                     0                0   \n",
       "...        ...         ...                   ...              ...   \n",
       "1730         0           0                     0                0   \n",
       "1731         0           0                     0                0   \n",
       "1732         0           0                     0                0   \n",
       "1733         1           0                     0                0   \n",
       "1734         1           0                     0                0   \n",
       "\n",
       "      x5_Training  x5_Writing/Editing  \n",
       "0               0                   0  \n",
       "1               0                   0  \n",
       "2               0                   0  \n",
       "3               0                   0  \n",
       "4               0                   0  \n",
       "...           ...                 ...  \n",
       "1730            0                   0  \n",
       "1731            0                   0  \n",
       "1732            0                   0  \n",
       "1733            0                   0  \n",
       "1734            0                   0  \n",
       "\n",
       "[1735 rows x 863 columns]"
      ]
     },
     "execution_count": 19,
     "metadata": {},
     "output_type": "execute_result"
    }
   ],
   "source": [
    "#dropping the non encoded columns from the dataframe \n",
    "df.drop(['salary_range','employment_type','required_experience','required_education','industry','function'],inplace = True, axis = 1)\n",
    "df"
   ]
  },
  {
   "cell_type": "code",
   "execution_count": 20,
   "metadata": {},
   "outputs": [],
   "source": [
    "#setting x,y axises\n",
    "X = df.drop(['fraudulent'],axis = 1)\n",
    "y = df['fraudulent']\n"
   ]
  },
  {
   "cell_type": "code",
   "execution_count": 21,
   "metadata": {},
   "outputs": [
    {
     "data": {
      "text/html": [
       "<div>\n",
       "<style scoped>\n",
       "    .dataframe tbody tr th:only-of-type {\n",
       "        vertical-align: middle;\n",
       "    }\n",
       "\n",
       "    .dataframe tbody tr th {\n",
       "        vertical-align: top;\n",
       "    }\n",
       "\n",
       "    .dataframe thead th {\n",
       "        text-align: right;\n",
       "    }\n",
       "</style>\n",
       "<table border=\"1\" class=\"dataframe\">\n",
       "  <thead>\n",
       "    <tr style=\"text-align: right;\">\n",
       "      <th></th>\n",
       "      <th>pc1</th>\n",
       "      <th>pc2</th>\n",
       "      <th>fraudulent</th>\n",
       "    </tr>\n",
       "  </thead>\n",
       "  <tbody>\n",
       "    <tr>\n",
       "      <th>0</th>\n",
       "      <td>0.162618</td>\n",
       "      <td>-0.197660</td>\n",
       "      <td>0</td>\n",
       "    </tr>\n",
       "    <tr>\n",
       "      <th>1</th>\n",
       "      <td>1.093985</td>\n",
       "      <td>1.129210</td>\n",
       "      <td>0</td>\n",
       "    </tr>\n",
       "    <tr>\n",
       "      <th>2</th>\n",
       "      <td>0.235221</td>\n",
       "      <td>-0.740579</td>\n",
       "      <td>0</td>\n",
       "    </tr>\n",
       "    <tr>\n",
       "      <th>3</th>\n",
       "      <td>-0.634949</td>\n",
       "      <td>0.306676</td>\n",
       "      <td>0</td>\n",
       "    </tr>\n",
       "    <tr>\n",
       "      <th>4</th>\n",
       "      <td>-0.462734</td>\n",
       "      <td>0.382725</td>\n",
       "      <td>0</td>\n",
       "    </tr>\n",
       "    <tr>\n",
       "      <th>...</th>\n",
       "      <td>...</td>\n",
       "      <td>...</td>\n",
       "      <td>...</td>\n",
       "    </tr>\n",
       "    <tr>\n",
       "      <th>1730</th>\n",
       "      <td>-0.915899</td>\n",
       "      <td>1.079453</td>\n",
       "      <td>1</td>\n",
       "    </tr>\n",
       "    <tr>\n",
       "      <th>1731</th>\n",
       "      <td>1.095640</td>\n",
       "      <td>0.734616</td>\n",
       "      <td>0</td>\n",
       "    </tr>\n",
       "    <tr>\n",
       "      <th>1732</th>\n",
       "      <td>0.772975</td>\n",
       "      <td>0.265586</td>\n",
       "      <td>0</td>\n",
       "    </tr>\n",
       "    <tr>\n",
       "      <th>1733</th>\n",
       "      <td>-0.061640</td>\n",
       "      <td>-0.889382</td>\n",
       "      <td>0</td>\n",
       "    </tr>\n",
       "    <tr>\n",
       "      <th>1734</th>\n",
       "      <td>-0.963954</td>\n",
       "      <td>0.215985</td>\n",
       "      <td>0</td>\n",
       "    </tr>\n",
       "  </tbody>\n",
       "</table>\n",
       "<p>1735 rows × 3 columns</p>\n",
       "</div>"
      ],
      "text/plain": [
       "           pc1       pc2  fraudulent\n",
       "0     0.162618 -0.197660           0\n",
       "1     1.093985  1.129210           0\n",
       "2     0.235221 -0.740579           0\n",
       "3    -0.634949  0.306676           0\n",
       "4    -0.462734  0.382725           0\n",
       "...        ...       ...         ...\n",
       "1730 -0.915899  1.079453           1\n",
       "1731  1.095640  0.734616           0\n",
       "1732  0.772975  0.265586           0\n",
       "1733 -0.061640 -0.889382           0\n",
       "1734 -0.963954  0.215985           0\n",
       "\n",
       "[1735 rows x 3 columns]"
      ]
     },
     "execution_count": 21,
     "metadata": {},
     "output_type": "execute_result"
    }
   ],
   "source": [
    "#Converting 800+ Dimension feature space  into 2D PCA and creating a dataframe based on the 2D PCA\n",
    "from sklearn.decomposition import PCA\n",
    "pca = PCA(n_components=2)\n",
    "pComponent = pca.fit_transform(X)\n",
    "pcdf = pd.DataFrame(data = pComponent,columns = ['pc1','pc2'])\n",
    "pcdf = pd.concat([pcdf,df['fraudulent']],axis =1)\n",
    "pcdf"
   ]
  },
  {
   "cell_type": "code",
   "execution_count": 22,
   "metadata": {},
   "outputs": [
    {
     "data": {
      "text/plain": [
       "array([0.09557941, 0.06315747])"
      ]
     },
     "execution_count": 22,
     "metadata": {},
     "output_type": "execute_result"
    }
   ],
   "source": [
    "#information lost whilst converting into PCA\n",
    "pca.explained_variance_ratio_ # total = 0.16% so lost information is 99.84% "
   ]
  },
  {
   "cell_type": "code",
   "execution_count": 23,
   "metadata": {},
   "outputs": [
    {
     "data": {
      "text/plain": [
       "<matplotlib.legend.Legend at 0x21e13b23d08>"
      ]
     },
     "execution_count": 23,
     "metadata": {},
     "output_type": "execute_result"
    },
    {
     "data": {
      "image/png": "[encoded data removed]",
      "text/plain": [
       "<Figure size 720x720 with 1 Axes>"
      ]
     },
     "metadata": {
      "needs_background": "light"
     },
     "output_type": "display_data"
    }
   ],
   "source": [
    "#2D PCA plotting\n",
    "fig = plt.figure(figsize=(10, 10))\n",
    "plt.title('Real/Fake Job Posting Dataset')\n",
    "plt.xlabel(\"PC1\")\n",
    "plt.ylabel(\"PC2\")\n",
    "\n",
    "fraud1 = pcdf[pcdf['fraudulent'] == 1]\n",
    "fraud0 = pcdf[pcdf['fraudulent'] == 0]\n",
    "pla = plt.scatter(fraud1.pc1, fraud1.pc2, color='red')\n",
    "plb = plt.scatter(fraud0.pc1, fraud0.pc2, color='blue')\n",
    "\n",
    "plt.legend([pla, plb], [\"Fraudulent\", \"Non-Fraudulent\"])"
   ]
  },
  {
   "cell_type": "code",
   "execution_count": 24,
   "metadata": {},
   "outputs": [],
   "source": [
    "#splitting data for training and testing \n",
    "from sklearn.model_selection import train_test_split\n",
    "X_train, X_test, y_train, y_test = train_test_split(X, y, test_size=0.2, random_state=0, shuffle=True, stratify=y)"
   ]
  },
  {
   "cell_type": "markdown",
   "metadata": {},
   "source": [
    "## Logistic Regression Model"
   ]
  },
  {
   "cell_type": "markdown",
   "metadata": {},
   "source": [
    "### Default model creation and evaluation"
   ]
  },
  {
   "cell_type": "code",
   "execution_count": 25,
   "metadata": {},
   "outputs": [
    {
     "name": "stdout",
     "output_type": "stream",
     "text": [
      "Training Model score:0.956\n",
      "Testing Model score:0.928\n",
      "Wall time: 224 ms\n"
     ]
    }
   ],
   "source": [
    "%%time\n",
    "#Default logisitic regression model\n",
    "from sklearn.linear_model import LogisticRegression\n",
    "model = LogisticRegression(random_state=0)\n",
    "model.fit(X_train,y_train)\n",
    "training_score = model.score(X_train,y_train)\n",
    "print (\"Training Model score:{:.3f}\".format(training_score))\n",
    "testing_score = model.score(X_test,y_test)\n",
    "print (\"Testing Model score:{:.3f}\".format(testing_score))"
   ]
  },
  {
   "cell_type": "code",
   "execution_count": 26,
   "metadata": {},
   "outputs": [
    {
     "name": "stdout",
     "output_type": "stream",
     "text": [
      "[0.91935484 0.92396313 0.92626728 0.93764434]\n",
      "Average model performance : 0.927\n"
     ]
    }
   ],
   "source": [
    "#Cross validation of default logisitc regression model\n",
    "from sklearn.model_selection import cross_val_score\n",
    "scores = cross_val_score(model,X,y,cv =4,scoring = 'accuracy')\n",
    "print(scores)\n",
    "avg_scores = scores.mean()\n",
    "print(\"Average model performance : {:.3f}\".format(avg_scores))"
   ]
  },
  {
   "cell_type": "code",
   "execution_count": 27,
   "metadata": {},
   "outputs": [
    {
     "name": "stdout",
     "output_type": "stream",
     "text": [
      "[[320   1]\n",
      " [ 24   2]]\n"
     ]
    }
   ],
   "source": [
    "#Confusion matrix for default logistic regression model\n",
    "y_test_pred = model.predict(X_test)\n",
    "from sklearn.metrics import confusion_matrix\n",
    "cfm = confusion_matrix(y_test,y_test_pred)\n",
    "print(cfm)"
   ]
  },
  {
   "cell_type": "code",
   "execution_count": 28,
   "metadata": {},
   "outputs": [
    {
     "data": {
      "text/plain": [
       "[Text(0, 0.5, 'Non-Fraudulent'), Text(0, 1.5, 'Fraudulent')]"
      ]
     },
     "execution_count": 28,
     "metadata": {},
     "output_type": "execute_result"
    },
    {
     "data": {
      "image/png": "[encoded data removed]",
      "text/plain": [
       "<Figure size 432x288 with 2 Axes>"
      ]
     },
     "metadata": {
      "needs_background": "light"
     },
     "output_type": "display_data"
    }
   ],
   "source": [
    "#Confusion matrix visualisation for default logisitic regression model \n",
    "group_names = ['True Neg','False Pos','False Neg','True Pos']\n",
    "group_counts = ['{0:0.0f}'.format(value) for value in cfm.flatten()]\n",
    "group_percentages = ['{0:.2%}'.format(value) for value in cfm.flatten()/np.sum(cfm)]\n",
    "labels = [f'{v1}\\n{v2}\\n{v3}' for v1, v2, v3 in zip(group_names,group_counts,group_percentages)]\n",
    "labels = np.asarray(labels).reshape(2,2)\n",
    "\n",
    "ax= plt.subplot()\n",
    "sns.heatmap(cfm,ax=ax,annot=labels, fmt='', cmap='Blues',)\n",
    "\n",
    "ax.set_xlabel('Predicted labels')\n",
    "ax.set_ylabel('True labels')\n",
    "ax.set_title('Confusion Matrix')\n",
    "ax.xaxis.set_ticklabels(['Non-Fraudulent', 'Fraudulent'])\n",
    "ax.yaxis.set_ticklabels(['Non-Fraudulent', 'Fraudulent'])"
   ]
  },
  {
   "cell_type": "code",
   "execution_count": 29,
   "metadata": {},
   "outputs": [
    {
     "name": "stdout",
     "output_type": "stream",
     "text": [
      "                precision    recall  f1-score   support\n",
      "\n",
      "Non-Fraudulent       0.93      1.00      0.96       321\n",
      "    Fraudulent       0.67      0.08      0.14        26\n",
      "\n",
      "      accuracy                           0.93       347\n",
      "     macro avg       0.80      0.54      0.55       347\n",
      "  weighted avg       0.91      0.93      0.90       347\n",
      "\n"
     ]
    }
   ],
   "source": [
    "#Classification report for default logistic regression model\n",
    "from sklearn.metrics import classification_report\n",
    "target_names = ['Non-Fraudulent','Fraudulent']\n",
    "cReport = classification_report(y_test,y_test_pred,target_names = target_names)\n",
    "print(cReport)"
   ]
  },
  {
   "cell_type": "markdown",
   "metadata": {},
   "source": [
    "### Default model creation with Oversampled training data + evaluation"
   ]
  },
  {
   "cell_type": "code",
   "execution_count": 30,
   "metadata": {},
   "outputs": [],
   "source": [
    "#Oversampling training data\n",
    "from imblearn.over_sampling import SMOTE\n",
    "oversampled = SMOTE(random_state=0)\n",
    "X_train_smote, y_train_smote = oversampled.fit_resample(X_train, y_train)"
   ]
  },
  {
   "cell_type": "code",
   "execution_count": 31,
   "metadata": {},
   "outputs": [
    {
     "data": {
      "text/plain": [
       "0    1285\n",
       "1     103\n",
       "Name: fraudulent, dtype: int64"
      ]
     },
     "execution_count": 31,
     "metadata": {},
     "output_type": "execute_result"
    }
   ],
   "source": [
    "y_train.value_counts()# number of classifications before oversampling \n"
   ]
  },
  {
   "cell_type": "code",
   "execution_count": 32,
   "metadata": {},
   "outputs": [
    {
     "data": {
      "text/plain": [
       "0    1285\n",
       "1    1285\n",
       "Name: fraudulent, dtype: int64"
      ]
     },
     "execution_count": 32,
     "metadata": {},
     "output_type": "execute_result"
    }
   ],
   "source": [
    "y_train_smote.value_counts()# number of classifications after oversampling "
   ]
  },
  {
   "cell_type": "code",
   "execution_count": 33,
   "metadata": {},
   "outputs": [
    {
     "name": "stdout",
     "output_type": "stream",
     "text": [
      "Training Model score:0.953\n",
      "Testing Model score:0.908\n",
      "Wall time: 393 ms\n"
     ]
    }
   ],
   "source": [
    "%%time\n",
    "#Default logisitic regression model after oversampling\n",
    "from sklearn.linear_model import LogisticRegression\n",
    "model = LogisticRegression(random_state=0)\n",
    "model.fit(X_train_smote,y_train_smote)\n",
    "training_score = model.score(X_train_smote,y_train_smote)\n",
    "print (\"Training Model score:{:.3f}\".format(training_score))\n",
    "testing_score = model.score(X_test,y_test)\n",
    "print (\"Testing Model score:{:.3f}\".format(testing_score))"
   ]
  },
  {
   "cell_type": "code",
   "execution_count": 34,
   "metadata": {},
   "outputs": [
    {
     "name": "stdout",
     "output_type": "stream",
     "text": [
      "[0.91935484 0.92396313 0.92626728 0.93764434]\n",
      "Average model performance : 0.927\n"
     ]
    }
   ],
   "source": [
    "#Cross validation of Default logisitc regression model after oversampling\n",
    "from sklearn.model_selection import cross_val_score\n",
    "scores = cross_val_score(model,X,y,cv =4,scoring = 'accuracy')\n",
    "print(scores)\n",
    "avg_scores = scores.mean()\n",
    "print(\"Average model performance : {:.3f}\".format(avg_scores))"
   ]
  },
  {
   "cell_type": "code",
   "execution_count": 35,
   "metadata": {},
   "outputs": [
    {
     "name": "stdout",
     "output_type": "stream",
     "text": [
      "[[298  23]\n",
      " [  9  17]]\n"
     ]
    }
   ],
   "source": [
    "#Confusion matrix for default logistic regression model after oversampling\n",
    "y_test_pred = model.predict(X_test)\n",
    "from sklearn.metrics import confusion_matrix\n",
    "cfm = confusion_matrix(y_test,y_test_pred)\n",
    "print(cfm)"
   ]
  },
  {
   "cell_type": "code",
   "execution_count": 36,
   "metadata": {},
   "outputs": [
    {
     "data": {
      "text/plain": [
       "[Text(0, 0.5, 'Non-Fraudulent'), Text(0, 1.5, 'Fraudulent')]"
      ]
     },
     "execution_count": 36,
     "metadata": {},
     "output_type": "execute_result"
    },
    {
     "data": {
      "image/png": "[encoded data removed]",
      "text/plain": [
       "<Figure size 432x288 with 2 Axes>"
      ]
     },
     "metadata": {
      "needs_background": "light"
     },
     "output_type": "display_data"
    }
   ],
   "source": [
    "#Confusion matrix visualisation for default logisitic regression model after oversampling\n",
    "group_names = ['True Neg','False Pos','False Neg','True Pos']\n",
    "group_counts = ['{0:0.0f}'.format(value) for value in cfm.flatten()]\n",
    "group_percentages = ['{0:.2%}'.format(value) for value in cfm.flatten()/np.sum(cfm)]\n",
    "labels = [f'{v1}\\n{v2}\\n{v3}' for v1, v2, v3 in zip(group_names,group_counts,group_percentages)]\n",
    "labels = np.asarray(labels).reshape(2,2)\n",
    "\n",
    "ax= plt.subplot()\n",
    "sns.heatmap(cfm,ax=ax,annot=labels, fmt='', cmap='Blues',)\n",
    "\n",
    "ax.set_xlabel('Predicted labels')\n",
    "ax.set_ylabel('True labels')\n",
    "ax.set_title('Confusion Matrix')\n",
    "ax.xaxis.set_ticklabels(['Non-Fraudulent', 'Fraudulent'])\n",
    "ax.yaxis.set_ticklabels(['Non-Fraudulent', 'Fraudulent'])"
   ]
  },
  {
   "cell_type": "code",
   "execution_count": 37,
   "metadata": {},
   "outputs": [
    {
     "name": "stdout",
     "output_type": "stream",
     "text": [
      "                precision    recall  f1-score   support\n",
      "\n",
      "Non-Fraudulent       0.97      0.93      0.95       321\n",
      "    Fraudulent       0.42      0.65      0.52        26\n",
      "\n",
      "      accuracy                           0.91       347\n",
      "     macro avg       0.70      0.79      0.73       347\n",
      "  weighted avg       0.93      0.91      0.92       347\n",
      "\n"
     ]
    }
   ],
   "source": [
    "#Classification report for default logisitic regression model after oversampling\n",
    "from sklearn.metrics import classification_report\n",
    "target_names = ['Non-Fraudulent','Fraudulent']\n",
    "cReport = classification_report(y_test,y_test_pred,target_names = target_names)\n",
    "print(cReport)"
   ]
  },
  {
   "cell_type": "markdown",
   "metadata": {},
   "source": [
    "### Grid Search and Random Search Finding Optimal Hyperparameters"
   ]
  },
  {
   "cell_type": "code",
   "execution_count": 38,
   "metadata": {},
   "outputs": [
    {
     "name": "stdout",
     "output_type": "stream",
     "text": [
      "{'penalty': ['l1', 'l2', 'elasticent', 'none'], 'C': [0.001, 0.01, 0.1, 1, 10, 100, 1000], 'solver': ['newton-cg', 'lbfgs', 'liblinear', 'sag', 'saga']}\n"
     ]
    }
   ],
   "source": [
    "#Classifier hyperparameters as with their values as lists\n",
    "solver_list = ['newton-cg', 'lbfgs', 'liblinear', 'sag', 'saga']\n",
    "penalty_list = ['l1','l2','elasticent','none']\n",
    "c_list = [0.001,0.01,0.1,1,10,100,1000]\n",
    "\n",
    "para_dict = dict(penalty=penalty_list,C =c_list,solver=solver_list) #dictionary of the hyperparamters and their values  \n",
    "print(para_dict)"
   ]
  },
  {
   "cell_type": "code",
   "execution_count": 39,
   "metadata": {},
   "outputs": [
    {
     "name": "stdout",
     "output_type": "stream",
     "text": [
      "Wall time: 18.8 s\n"
     ]
    },
    {
     "data": {
      "text/plain": [
       "RandomizedSearchCV(cv=5, estimator=LogisticRegression(random_state=0),\n",
       "                   param_distributions={'C': [0.001, 0.01, 0.1, 1, 10, 100,\n",
       "                                              1000],\n",
       "                                        'penalty': ['l1', 'l2', 'elasticent',\n",
       "                                                    'none'],\n",
       "                                        'solver': ['newton-cg', 'lbfgs',\n",
       "                                                   'liblinear', 'sag',\n",
       "                                                   'saga']},\n",
       "                   random_state=0, scoring='accuracy')"
      ]
     },
     "execution_count": 39,
     "metadata": {},
     "output_type": "execute_result"
    }
   ],
   "source": [
    "%%time\n",
    "#Random search\n",
    "from sklearn.model_selection import RandomizedSearchCV\n",
    "rand = RandomizedSearchCV(model,para_dict,cv=5,scoring = 'accuracy',return_train_score=False,n_iter = 10,random_state=0)\n",
    "rand.fit(X_train_smote,y_train_smote)"
   ]
  },
  {
   "cell_type": "code",
   "execution_count": 40,
   "metadata": {},
   "outputs": [
    {
     "data": {
      "text/html": [
       "<div>\n",
       "<style scoped>\n",
       "    .dataframe tbody tr th:only-of-type {\n",
       "        vertical-align: middle;\n",
       "    }\n",
       "\n",
       "    .dataframe tbody tr th {\n",
       "        vertical-align: top;\n",
       "    }\n",
       "\n",
       "    .dataframe thead th {\n",
       "        text-align: right;\n",
       "    }\n",
       "</style>\n",
       "<table border=\"1\" class=\"dataframe\">\n",
       "  <thead>\n",
       "    <tr style=\"text-align: right;\">\n",
       "      <th></th>\n",
       "      <th>mean_test_score</th>\n",
       "      <th>params</th>\n",
       "    </tr>\n",
       "  </thead>\n",
       "  <tbody>\n",
       "    <tr>\n",
       "      <th>0</th>\n",
       "      <td>0.891440</td>\n",
       "      <td>{'solver': 'newton-cg', 'penalty': 'l2', 'C': ...</td>\n",
       "    </tr>\n",
       "    <tr>\n",
       "      <th>1</th>\n",
       "      <td>0.939689</td>\n",
       "      <td>{'solver': 'saga', 'penalty': 'none', 'C': 0.1}</td>\n",
       "    </tr>\n",
       "    <tr>\n",
       "      <th>2</th>\n",
       "      <td>0.813619</td>\n",
       "      <td>{'solver': 'liblinear', 'penalty': 'l2', 'C': ...</td>\n",
       "    </tr>\n",
       "    <tr>\n",
       "      <th>3</th>\n",
       "      <td>NaN</td>\n",
       "      <td>{'solver': 'newton-cg', 'penalty': 'elasticent...</td>\n",
       "    </tr>\n",
       "    <tr>\n",
       "      <th>4</th>\n",
       "      <td>NaN</td>\n",
       "      <td>{'solver': 'liblinear', 'penalty': 'elasticent...</td>\n",
       "    </tr>\n",
       "    <tr>\n",
       "      <th>5</th>\n",
       "      <td>0.848249</td>\n",
       "      <td>{'solver': 'liblinear', 'penalty': 'l2', 'C': ...</td>\n",
       "    </tr>\n",
       "    <tr>\n",
       "      <th>6</th>\n",
       "      <td>NaN</td>\n",
       "      <td>{'solver': 'lbfgs', 'penalty': 'elasticent', '...</td>\n",
       "    </tr>\n",
       "    <tr>\n",
       "      <th>7</th>\n",
       "      <td>NaN</td>\n",
       "      <td>{'solver': 'liblinear', 'penalty': 'none', 'C'...</td>\n",
       "    </tr>\n",
       "    <tr>\n",
       "      <th>8</th>\n",
       "      <td>0.894942</td>\n",
       "      <td>{'solver': 'liblinear', 'penalty': 'l1', 'C': ...</td>\n",
       "    </tr>\n",
       "    <tr>\n",
       "      <th>9</th>\n",
       "      <td>0.801556</td>\n",
       "      <td>{'solver': 'sag', 'penalty': 'l2', 'C': 0.001}</td>\n",
       "    </tr>\n",
       "  </tbody>\n",
       "</table>\n",
       "</div>"
      ],
      "text/plain": [
       "   mean_test_score                                             params\n",
       "0         0.891440  {'solver': 'newton-cg', 'penalty': 'l2', 'C': ...\n",
       "1         0.939689    {'solver': 'saga', 'penalty': 'none', 'C': 0.1}\n",
       "2         0.813619  {'solver': 'liblinear', 'penalty': 'l2', 'C': ...\n",
       "3              NaN  {'solver': 'newton-cg', 'penalty': 'elasticent...\n",
       "4              NaN  {'solver': 'liblinear', 'penalty': 'elasticent...\n",
       "5         0.848249  {'solver': 'liblinear', 'penalty': 'l2', 'C': ...\n",
       "6              NaN  {'solver': 'lbfgs', 'penalty': 'elasticent', '...\n",
       "7              NaN  {'solver': 'liblinear', 'penalty': 'none', 'C'...\n",
       "8         0.894942  {'solver': 'liblinear', 'penalty': 'l1', 'C': ...\n",
       "9         0.801556     {'solver': 'sag', 'penalty': 'l2', 'C': 0.001}"
      ]
     },
     "execution_count": 40,
     "metadata": {},
     "output_type": "execute_result"
    }
   ],
   "source": [
    "pd.DataFrame(rand.cv_results_)[['mean_test_score','params']] # convert random search results to data frame and showing only the wanted columns"
   ]
  },
  {
   "cell_type": "code",
   "execution_count": 41,
   "metadata": {},
   "outputs": [
    {
     "name": "stdout",
     "output_type": "stream",
     "text": [
      "Best model accuracy is :0.940\n",
      "Best set of hyperparamters are: {'solver': 'saga', 'penalty': 'none', 'C': 0.1}\n"
     ]
    }
   ],
   "source": [
    "#Shows the hyperparamters that give the best average model accuracy \n",
    "print (\"Best model accuracy is :{:.3f}\".format(rand.best_score_))\n",
    "print (\"Best set of hyperparamters are:\",rand.best_params_)"
   ]
  },
  {
   "cell_type": "code",
   "execution_count": 42,
   "metadata": {},
   "outputs": [
    {
     "name": "stdout",
     "output_type": "stream",
     "text": [
      "Wall time: 6min 45s\n"
     ]
    },
    {
     "data": {
      "text/plain": [
       "GridSearchCV(cv=5, estimator=LogisticRegression(random_state=0),\n",
       "             param_grid={'C': [0.001, 0.01, 0.1, 1, 10, 100, 1000],\n",
       "                         'penalty': ['l1', 'l2', 'elasticent', 'none'],\n",
       "                         'solver': ['newton-cg', 'lbfgs', 'liblinear', 'sag',\n",
       "                                    'saga']},\n",
       "             scoring='accuracy')"
      ]
     },
     "execution_count": 42,
     "metadata": {},
     "output_type": "execute_result"
    }
   ],
   "source": [
    "%%time \n",
    "#Grid search\n",
    "from sklearn.model_selection import GridSearchCV\n",
    "grid = GridSearchCV(model,para_dict,cv=5,scoring = 'accuracy',return_train_score=False)\n",
    "grid.fit(X_train_smote,y_train_smote)"
   ]
  },
  {
   "cell_type": "code",
   "execution_count": 43,
   "metadata": {},
   "outputs": [
    {
     "data": {
      "text/html": [
       "<div>\n",
       "<style scoped>\n",
       "    .dataframe tbody tr th:only-of-type {\n",
       "        vertical-align: middle;\n",
       "    }\n",
       "\n",
       "    .dataframe tbody tr th {\n",
       "        vertical-align: top;\n",
       "    }\n",
       "\n",
       "    .dataframe thead th {\n",
       "        text-align: right;\n",
       "    }\n",
       "</style>\n",
       "<table border=\"1\" class=\"dataframe\">\n",
       "  <thead>\n",
       "    <tr style=\"text-align: right;\">\n",
       "      <th></th>\n",
       "      <th>mean_test_score</th>\n",
       "      <th>params</th>\n",
       "    </tr>\n",
       "  </thead>\n",
       "  <tbody>\n",
       "    <tr>\n",
       "      <th>0</th>\n",
       "      <td>NaN</td>\n",
       "      <td>{'C': 0.001, 'penalty': 'l1', 'solver': 'newto...</td>\n",
       "    </tr>\n",
       "    <tr>\n",
       "      <th>1</th>\n",
       "      <td>NaN</td>\n",
       "      <td>{'C': 0.001, 'penalty': 'l1', 'solver': 'lbfgs'}</td>\n",
       "    </tr>\n",
       "    <tr>\n",
       "      <th>2</th>\n",
       "      <td>0.500000</td>\n",
       "      <td>{'C': 0.001, 'penalty': 'l1', 'solver': 'libli...</td>\n",
       "    </tr>\n",
       "    <tr>\n",
       "      <th>3</th>\n",
       "      <td>NaN</td>\n",
       "      <td>{'C': 0.001, 'penalty': 'l1', 'solver': 'sag'}</td>\n",
       "    </tr>\n",
       "    <tr>\n",
       "      <th>4</th>\n",
       "      <td>0.500000</td>\n",
       "      <td>{'C': 0.001, 'penalty': 'l1', 'solver': 'saga'}</td>\n",
       "    </tr>\n",
       "    <tr>\n",
       "      <th>...</th>\n",
       "      <td>...</td>\n",
       "      <td>...</td>\n",
       "    </tr>\n",
       "    <tr>\n",
       "      <th>135</th>\n",
       "      <td>0.880156</td>\n",
       "      <td>{'C': 1000, 'penalty': 'none', 'solver': 'newt...</td>\n",
       "    </tr>\n",
       "    <tr>\n",
       "      <th>136</th>\n",
       "      <td>0.918677</td>\n",
       "      <td>{'C': 1000, 'penalty': 'none', 'solver': 'lbfgs'}</td>\n",
       "    </tr>\n",
       "    <tr>\n",
       "      <th>137</th>\n",
       "      <td>NaN</td>\n",
       "      <td>{'C': 1000, 'penalty': 'none', 'solver': 'libl...</td>\n",
       "    </tr>\n",
       "    <tr>\n",
       "      <th>138</th>\n",
       "      <td>0.937743</td>\n",
       "      <td>{'C': 1000, 'penalty': 'none', 'solver': 'sag'}</td>\n",
       "    </tr>\n",
       "    <tr>\n",
       "      <th>139</th>\n",
       "      <td>0.939689</td>\n",
       "      <td>{'C': 1000, 'penalty': 'none', 'solver': 'saga'}</td>\n",
       "    </tr>\n",
       "  </tbody>\n",
       "</table>\n",
       "<p>140 rows × 2 columns</p>\n",
       "</div>"
      ],
      "text/plain": [
       "     mean_test_score                                             params\n",
       "0                NaN  {'C': 0.001, 'penalty': 'l1', 'solver': 'newto...\n",
       "1                NaN   {'C': 0.001, 'penalty': 'l1', 'solver': 'lbfgs'}\n",
       "2           0.500000  {'C': 0.001, 'penalty': 'l1', 'solver': 'libli...\n",
       "3                NaN     {'C': 0.001, 'penalty': 'l1', 'solver': 'sag'}\n",
       "4           0.500000    {'C': 0.001, 'penalty': 'l1', 'solver': 'saga'}\n",
       "..               ...                                                ...\n",
       "135         0.880156  {'C': 1000, 'penalty': 'none', 'solver': 'newt...\n",
       "136         0.918677  {'C': 1000, 'penalty': 'none', 'solver': 'lbfgs'}\n",
       "137              NaN  {'C': 1000, 'penalty': 'none', 'solver': 'libl...\n",
       "138         0.937743    {'C': 1000, 'penalty': 'none', 'solver': 'sag'}\n",
       "139         0.939689   {'C': 1000, 'penalty': 'none', 'solver': 'saga'}\n",
       "\n",
       "[140 rows x 2 columns]"
      ]
     },
     "execution_count": 43,
     "metadata": {},
     "output_type": "execute_result"
    }
   ],
   "source": [
    "pd.DataFrame(grid.cv_results_)[['mean_test_score','params']] # convert grid search results to data frame and showing only the wanted columns\n"
   ]
  },
  {
   "cell_type": "code",
   "execution_count": 44,
   "metadata": {},
   "outputs": [
    {
     "name": "stdout",
     "output_type": "stream",
     "text": [
      "Best model accuracy is :0.940\n",
      "Best set of hyperparamters are: {'C': 0.001, 'penalty': 'none', 'solver': 'saga'}\n"
     ]
    }
   ],
   "source": [
    "#Shows the hyperparamters that give the best average model accuracy \n",
    "print (\"Best model accuracy is :{:.3f}\".format(grid.best_score_))\n",
    "print (\"Best set of hyperparamters are:\",grid.best_params_)"
   ]
  },
  {
   "cell_type": "markdown",
   "metadata": {},
   "source": [
    "### Tuned model with Random Search Parameters and Oversampled training data + evaluation"
   ]
  },
  {
   "cell_type": "code",
   "execution_count": 45,
   "metadata": {},
   "outputs": [],
   "source": [
    "#Get the values of the for the optimal hyperparamters\n",
    "rs_optimal_solver = rand.best_params_.get('solver')\n",
    "rs_optimal_C = rand.best_params_.get('C')\n",
    "rs_optimal_penalty = rand.best_params_.get('penalty')"
   ]
  },
  {
   "cell_type": "code",
   "execution_count": 46,
   "metadata": {},
   "outputs": [
    {
     "name": "stdout",
     "output_type": "stream",
     "text": [
      "Training Model score:0.989\n",
      "Testing Model score:0.916\n",
      "Wall time: 2.35 s\n"
     ]
    }
   ],
   "source": [
    "%%time\n",
    "#logisitic regression model after oversampling and random search\n",
    "from sklearn.linear_model import LogisticRegression\n",
    "model = LogisticRegression(penalty=rs_optimal_penalty,C=rs_optimal_C,solver=rs_optimal_solver,random_state=0)\n",
    "model.fit(X_train_smote,y_train_smote)\n",
    "training_score = model.score(X_train_smote,y_train_smote)\n",
    "print (\"Training Model score:{:.3f}\".format(training_score))\n",
    "testing_score = model.score(X_test,y_test)\n",
    "print (\"Testing Model score:{:.3f}\".format(testing_score))"
   ]
  },
  {
   "cell_type": "code",
   "execution_count": 47,
   "metadata": {},
   "outputs": [
    {
     "name": "stdout",
     "output_type": "stream",
     "text": [
      "[0.89861751 0.9078341  0.93087558 0.93533487]\n",
      "Average model performance : 0.918\n"
     ]
    }
   ],
   "source": [
    "#Cross validation of logisitc regression model after oversampling and random search\n",
    "from sklearn.model_selection import cross_val_score\n",
    "scores = cross_val_score(model,X,y,cv =4,scoring = 'accuracy')\n",
    "print(scores)\n",
    "avg_scores = scores.mean()\n",
    "print(\"Average model performance : {:.3f}\".format(avg_scores))"
   ]
  },
  {
   "cell_type": "code",
   "execution_count": 48,
   "metadata": {},
   "outputs": [
    {
     "name": "stdout",
     "output_type": "stream",
     "text": [
      "[[300  21]\n",
      " [  8  18]]\n"
     ]
    }
   ],
   "source": [
    "#Confusion matrix for logisitic regression model after oversampling and random search\n",
    "y_test_pred = model.predict(X_test)\n",
    "from sklearn.metrics import confusion_matrix\n",
    "cfm = confusion_matrix(y_test,y_test_pred)\n",
    "print(cfm)"
   ]
  },
  {
   "cell_type": "code",
   "execution_count": 49,
   "metadata": {},
   "outputs": [
    {
     "data": {
      "text/plain": [
       "[Text(0, 0.5, 'Non-Fraudulent'), Text(0, 1.5, 'Fraudulent')]"
      ]
     },
     "execution_count": 49,
     "metadata": {},
     "output_type": "execute_result"
    },
    {
     "data": {
      "image/png": "[encoded data removed]",
      "text/plain": [
       "<Figure size 432x288 with 2 Axes>"
      ]
     },
     "metadata": {
      "needs_background": "light"
     },
     "output_type": "display_data"
    }
   ],
   "source": [
    "#Confusion matrix visualisation for logisitic regression model after oversampling and random search\n",
    "group_names = ['True Neg','False Pos','False Neg','True Pos']\n",
    "group_counts = ['{0:0.0f}'.format(value) for value in cfm.flatten()]\n",
    "group_percentages = ['{0:.2%}'.format(value) for value in cfm.flatten()/np.sum(cfm)]\n",
    "labels = [f'{v1}\\n{v2}\\n{v3}' for v1, v2, v3 in zip(group_names,group_counts,group_percentages)]\n",
    "labels = np.asarray(labels).reshape(2,2)\n",
    "\n",
    "ax= plt.subplot()\n",
    "sns.heatmap(cfm,ax=ax,annot=labels, fmt='', cmap='Blues',)\n",
    "\n",
    "ax.set_xlabel('Predicted labels')\n",
    "ax.set_ylabel('True labels')\n",
    "ax.set_title('Confusion Matrix')\n",
    "ax.xaxis.set_ticklabels(['Non-Fraudulent', 'Fraudulent'])\n",
    "ax.yaxis.set_ticklabels(['Non-Fraudulent', 'Fraudulent'])"
   ]
  },
  {
   "cell_type": "code",
   "execution_count": 50,
   "metadata": {},
   "outputs": [
    {
     "name": "stdout",
     "output_type": "stream",
     "text": [
      "                precision    recall  f1-score   support\n",
      "\n",
      "Non-Fraudulent       0.97      0.93      0.95       321\n",
      "    Fraudulent       0.46      0.69      0.55        26\n",
      "\n",
      "      accuracy                           0.92       347\n",
      "     macro avg       0.72      0.81      0.75       347\n",
      "  weighted avg       0.94      0.92      0.92       347\n",
      "\n"
     ]
    }
   ],
   "source": [
    "#Classification report for logisitic regression model after oversampling and random search\n",
    "from sklearn.metrics import classification_report\n",
    "target_names = ['Non-Fraudulent','Fraudulent']\n",
    "cReport = classification_report(y_test,y_test_pred,target_names = target_names)\n",
    "print(cReport)"
   ]
  },
  {
   "cell_type": "markdown",
   "metadata": {},
   "source": [
    "## MLPC Model"
   ]
  },
  {
   "cell_type": "markdown",
   "metadata": {},
   "source": [
    "### Default model creation and evaluation"
   ]
  },
  {
   "cell_type": "code",
   "execution_count": 51,
   "metadata": {},
   "outputs": [
    {
     "name": "stdout",
     "output_type": "stream",
     "text": [
      "Training Model score:0.999\n",
      "Testing Model score:0.937\n",
      "Wall time: 6.31 s\n"
     ]
    }
   ],
   "source": [
    "%%time\n",
    "#Default MLPC model\n",
    "from sklearn.neural_network import MLPClassifier\n",
    "model = MLPClassifier(random_state=0)\n",
    "model.fit(X_train,y_train)\n",
    "training_score = model.score(X_train,y_train)\n",
    "print (\"Training Model score:{:.3f}\".format(training_score))\n",
    "testing_score = model.score(X_test,y_test)\n",
    "print (\"Testing Model score:{:.3f}\".format(testing_score))"
   ]
  },
  {
   "cell_type": "code",
   "execution_count": 52,
   "metadata": {},
   "outputs": [
    {
     "name": "stdout",
     "output_type": "stream",
     "text": [
      "[0.91935484 0.91705069 0.93087558 0.94226328]\n",
      "Average model performance : 0.927\n"
     ]
    }
   ],
   "source": [
    "#Cross validation of default MLPC model\n",
    "from sklearn.model_selection import cross_val_score\n",
    "scores = cross_val_score(model,X,y,cv =4,scoring = 'accuracy')\n",
    "print(scores)\n",
    "avg_scores = scores.mean()\n",
    "print(\"Average model performance : {:.3f}\".format(avg_scores))"
   ]
  },
  {
   "cell_type": "code",
   "execution_count": 53,
   "metadata": {},
   "outputs": [
    {
     "name": "stdout",
     "output_type": "stream",
     "text": [
      "[[314   7]\n",
      " [ 15  11]]\n"
     ]
    }
   ],
   "source": [
    "#Confusion matrix for default MLPC model\n",
    "y_test_pred = model.predict(X_test)\n",
    "from sklearn.metrics import confusion_matrix\n",
    "cfm = confusion_matrix(y_test,y_test_pred)\n",
    "print(cfm)"
   ]
  },
  {
   "cell_type": "code",
   "execution_count": 54,
   "metadata": {},
   "outputs": [
    {
     "data": {
      "text/plain": [
       "[Text(0, 0.5, 'Non-Fraudulent'), Text(0, 1.5, 'Fraudulent')]"
      ]
     },
     "execution_count": 54,
     "metadata": {},
     "output_type": "execute_result"
    },
    {
     "data": {
      "image/png": "[encoded data removed]",
      "text/plain": [
       "<Figure size 432x288 with 2 Axes>"
      ]
     },
     "metadata": {
      "needs_background": "light"
     },
     "output_type": "display_data"
    }
   ],
   "source": [
    "#Confusion matrix visualisation for default MLPC model \n",
    "group_names = ['True Neg','False Pos','False Neg','True Pos']\n",
    "group_counts = ['{0:0.0f}'.format(value) for value in cfm.flatten()]\n",
    "group_percentages = ['{0:.2%}'.format(value) for value in cfm.flatten()/np.sum(cfm)]\n",
    "labels = [f'{v1}\\n{v2}\\n{v3}' for v1, v2, v3 in zip(group_names,group_counts,group_percentages)]\n",
    "labels = np.asarray(labels).reshape(2,2)\n",
    "\n",
    "ax= plt.subplot()\n",
    "sns.heatmap(cfm,ax=ax,annot=labels, fmt='', cmap='Blues',)\n",
    "\n",
    "ax.set_xlabel('Predicted labels')\n",
    "ax.set_ylabel('True labels')\n",
    "ax.set_title('Confusion Matrix')\n",
    "ax.xaxis.set_ticklabels(['Non-Fraudulent', 'Fraudulent'])\n",
    "ax.yaxis.set_ticklabels(['Non-Fraudulent', 'Fraudulent'])"
   ]
  },
  {
   "cell_type": "code",
   "execution_count": 55,
   "metadata": {},
   "outputs": [
    {
     "name": "stdout",
     "output_type": "stream",
     "text": [
      "                precision    recall  f1-score   support\n",
      "\n",
      "Non-Fraudulent       0.95      0.98      0.97       321\n",
      "    Fraudulent       0.61      0.42      0.50        26\n",
      "\n",
      "      accuracy                           0.94       347\n",
      "     macro avg       0.78      0.70      0.73       347\n",
      "  weighted avg       0.93      0.94      0.93       347\n",
      "\n"
     ]
    }
   ],
   "source": [
    "#Classification report for default MLPC model\n",
    "from sklearn.metrics import classification_report\n",
    "target_names = ['Non-Fraudulent','Fraudulent']\n",
    "cReport = classification_report(y_test,y_test_pred,target_names = target_names)\n",
    "print(cReport)"
   ]
  },
  {
   "cell_type": "markdown",
   "metadata": {},
   "source": [
    "### Default model creation with Oversampled training data + evaluation"
   ]
  },
  {
   "cell_type": "code",
   "execution_count": 56,
   "metadata": {},
   "outputs": [],
   "source": [
    "#Oversampling training data\n",
    "from imblearn.over_sampling import SMOTE\n",
    "oversampled = SMOTE(random_state=0)\n",
    "X_train_smote, y_train_smote = oversampled.fit_resample(X_train, y_train)"
   ]
  },
  {
   "cell_type": "code",
   "execution_count": 57,
   "metadata": {},
   "outputs": [
    {
     "data": {
      "text/plain": [
       "0    1285\n",
       "1     103\n",
       "Name: fraudulent, dtype: int64"
      ]
     },
     "execution_count": 57,
     "metadata": {},
     "output_type": "execute_result"
    }
   ],
   "source": [
    "y_train.value_counts()# number of classifications before oversampling \n"
   ]
  },
  {
   "cell_type": "code",
   "execution_count": 58,
   "metadata": {},
   "outputs": [
    {
     "data": {
      "text/plain": [
       "0    1285\n",
       "1    1285\n",
       "Name: fraudulent, dtype: int64"
      ]
     },
     "execution_count": 58,
     "metadata": {},
     "output_type": "execute_result"
    }
   ],
   "source": [
    "y_train_smote.value_counts()# number of classifications after oversampling "
   ]
  },
  {
   "cell_type": "code",
   "execution_count": 59,
   "metadata": {},
   "outputs": [
    {
     "name": "stdout",
     "output_type": "stream",
     "text": [
      "Training Model score:1.000\n",
      "Testing Model score:0.914\n",
      "Wall time: 12.7 s\n"
     ]
    }
   ],
   "source": [
    "%%time\n",
    "#Default MLPC model after oversampling\n",
    "from sklearn.neural_network import MLPClassifier\n",
    "model = MLPClassifier(random_state=0)\n",
    "model.fit(X_train_smote,y_train_smote)\n",
    "training_score = model.score(X_train_smote,y_train_smote)\n",
    "print (\"Training Model score:{:.3f}\".format(training_score))\n",
    "testing_score = model.score(X_test,y_test)\n",
    "print (\"Testing Model score:{:.3f}\".format(testing_score))"
   ]
  },
  {
   "cell_type": "code",
   "execution_count": 60,
   "metadata": {},
   "outputs": [
    {
     "name": "stdout",
     "output_type": "stream",
     "text": [
      "[0.91935484 0.91705069 0.93087558 0.94226328]\n",
      "Average model performance : 0.927\n"
     ]
    }
   ],
   "source": [
    "#Cross validation of Default MLPC model after oversampling\n",
    "from sklearn.model_selection import cross_val_score\n",
    "scores = cross_val_score(model,X,y,cv =4,scoring = 'accuracy')\n",
    "print(scores)\n",
    "avg_scores = scores.mean()\n",
    "print(\"Average model performance : {:.3f}\".format(avg_scores))"
   ]
  },
  {
   "cell_type": "code",
   "execution_count": 61,
   "metadata": {},
   "outputs": [
    {
     "name": "stdout",
     "output_type": "stream",
     "text": [
      "[[297  24]\n",
      " [  6  20]]\n"
     ]
    }
   ],
   "source": [
    "#Confusion matrix for default MLPC model after oversampling\n",
    "y_test_pred = model.predict(X_test)\n",
    "from sklearn.metrics import confusion_matrix\n",
    "cfm = confusion_matrix(y_test,y_test_pred)\n",
    "print(cfm)"
   ]
  },
  {
   "cell_type": "code",
   "execution_count": 62,
   "metadata": {},
   "outputs": [
    {
     "data": {
      "text/plain": [
       "[Text(0, 0.5, 'Non-Fraudulent'), Text(0, 1.5, 'Fraudulent')]"
      ]
     },
     "execution_count": 62,
     "metadata": {},
     "output_type": "execute_result"
    },
    {
     "data": {
      "image/png": "[encoded data removed]",
      "text/plain": [
       "<Figure size 432x288 with 2 Axes>"
      ]
     },
     "metadata": {
      "needs_background": "light"
     },
     "output_type": "display_data"
    }
   ],
   "source": [
    "#Confusion matrix visualisation for default MLPC model after oversampling\n",
    "group_names = ['True Neg','False Pos','False Neg','True Pos']\n",
    "group_counts = ['{0:0.0f}'.format(value) for value in cfm.flatten()]\n",
    "group_percentages = ['{0:.2%}'.format(value) for value in cfm.flatten()/np.sum(cfm)]\n",
    "labels = [f'{v1}\\n{v2}\\n{v3}' for v1, v2, v3 in zip(group_names,group_counts,group_percentages)]\n",
    "labels = np.asarray(labels).reshape(2,2)\n",
    "\n",
    "ax= plt.subplot()\n",
    "sns.heatmap(cfm,ax=ax,annot=labels, fmt='', cmap='Blues',)\n",
    "\n",
    "ax.set_xlabel('Predicted labels')\n",
    "ax.set_ylabel('True labels')\n",
    "ax.set_title('Confusion Matrix')\n",
    "ax.xaxis.set_ticklabels(['Non-Fraudulent', 'Fraudulent'])\n",
    "ax.yaxis.set_ticklabels(['Non-Fraudulent', 'Fraudulent'])"
   ]
  },
  {
   "cell_type": "code",
   "execution_count": 63,
   "metadata": {},
   "outputs": [
    {
     "name": "stdout",
     "output_type": "stream",
     "text": [
      "                precision    recall  f1-score   support\n",
      "\n",
      "Non-Fraudulent       0.98      0.93      0.95       321\n",
      "    Fraudulent       0.45      0.77      0.57        26\n",
      "\n",
      "      accuracy                           0.91       347\n",
      "     macro avg       0.72      0.85      0.76       347\n",
      "  weighted avg       0.94      0.91      0.92       347\n",
      "\n"
     ]
    }
   ],
   "source": [
    "#Classification report for default MLPC model after oversampling\n",
    "from sklearn.metrics import classification_report\n",
    "target_names = ['Non-Fraudulent','Fraudulent']\n",
    "cReport = classification_report(y_test,y_test_pred,target_names = target_names)\n",
    "print(cReport)"
   ]
  },
  {
   "cell_type": "markdown",
   "metadata": {},
   "source": [
    "### Grid Search and Random Search Finding Optimal Hyperparameters"
   ]
  },
  {
   "cell_type": "code",
   "execution_count": 64,
   "metadata": {},
   "outputs": [
    {
     "name": "stdout",
     "output_type": "stream",
     "text": [
      "{'hidden_layer_sizes': [(100,), (100, 50), (100, 50, 25), (100, 50, 25, 12), (100, 50, 25, 12, 6)], 'activation': ['identity', 'logistic', 'tanh', 'relu'], 'solver': ['lbfgs', 'sgd', 'adam'], 'learning_rate': ['constant', 'invscaling', 'adaptive']}\n"
     ]
    }
   ],
   "source": [
    "#Classifier hyperparameters as with their values as lists\n",
    "hidden_layer_sizes_list = [(100,),(100,50,),(100,50,25,),(100,50,25,12,),(100,50,25,12,6,)]\n",
    "activation_list = ['identity', 'logistic', 'tanh', 'relu']\n",
    "solver_list = ['lbfgs', 'sgd', 'adam']\n",
    "learning_rate_list = ['constant','invscaling','adaptive']\n",
    "\n",
    "para_dict = dict(hidden_layer_sizes=hidden_layer_sizes_list,activation=activation_list,solver=solver_list,learning_rate=learning_rate_list) #dictionary of the hyperparamters and their values  \n",
    "print(para_dict)"
   ]
  },
  {
   "cell_type": "code",
   "execution_count": 65,
   "metadata": {},
   "outputs": [
    {
     "name": "stdout",
     "output_type": "stream",
     "text": [
      "Wall time: 8min 32s\n"
     ]
    },
    {
     "data": {
      "text/plain": [
       "RandomizedSearchCV(cv=5, estimator=MLPClassifier(random_state=0),\n",
       "                   param_distributions={'activation': ['identity', 'logistic',\n",
       "                                                       'tanh', 'relu'],\n",
       "                                        'hidden_layer_sizes': [(100,),\n",
       "                                                               (100, 50),\n",
       "                                                               (100, 50, 25),\n",
       "                                                               (100, 50, 25,\n",
       "                                                                12),\n",
       "                                                               (100, 50, 25, 12,\n",
       "                                                                6)],\n",
       "                                        'learning_rate': ['constant',\n",
       "                                                          'invscaling',\n",
       "                                                          'adaptive'],\n",
       "                                        'solver': ['lbfgs', 'sgd', 'adam']},\n",
       "                   random_state=0, scoring='accuracy')"
      ]
     },
     "execution_count": 65,
     "metadata": {},
     "output_type": "execute_result"
    }
   ],
   "source": [
    "%%time\n",
    "#Random search\n",
    "from sklearn.model_selection import RandomizedSearchCV\n",
    "rand = RandomizedSearchCV(model,para_dict,cv=5,scoring = 'accuracy',return_train_score=False,n_iter = 10,random_state=0)\n",
    "rand.fit(X_train_smote,y_train_smote)"
   ]
  },
  {
   "cell_type": "code",
   "execution_count": 66,
   "metadata": {},
   "outputs": [
    {
     "data": {
      "text/html": [
       "<div>\n",
       "<style scoped>\n",
       "    .dataframe tbody tr th:only-of-type {\n",
       "        vertical-align: middle;\n",
       "    }\n",
       "\n",
       "    .dataframe tbody tr th {\n",
       "        vertical-align: top;\n",
       "    }\n",
       "\n",
       "    .dataframe thead th {\n",
       "        text-align: right;\n",
       "    }\n",
       "</style>\n",
       "<table border=\"1\" class=\"dataframe\">\n",
       "  <thead>\n",
       "    <tr style=\"text-align: right;\">\n",
       "      <th></th>\n",
       "      <th>mean_test_score</th>\n",
       "      <th>params</th>\n",
       "    </tr>\n",
       "  </thead>\n",
       "  <tbody>\n",
       "    <tr>\n",
       "      <th>0</th>\n",
       "      <td>0.903113</td>\n",
       "      <td>{'solver': 'sgd', 'learning_rate': 'adaptive',...</td>\n",
       "    </tr>\n",
       "    <tr>\n",
       "      <th>1</th>\n",
       "      <td>0.864202</td>\n",
       "      <td>{'solver': 'sgd', 'learning_rate': 'adaptive',...</td>\n",
       "    </tr>\n",
       "    <tr>\n",
       "      <th>2</th>\n",
       "      <td>0.918677</td>\n",
       "      <td>{'solver': 'adam', 'learning_rate': 'adaptive'...</td>\n",
       "    </tr>\n",
       "    <tr>\n",
       "      <th>3</th>\n",
       "      <td>0.930739</td>\n",
       "      <td>{'solver': 'sgd', 'learning_rate': 'adaptive',...</td>\n",
       "    </tr>\n",
       "    <tr>\n",
       "      <th>4</th>\n",
       "      <td>0.863813</td>\n",
       "      <td>{'solver': 'sgd', 'learning_rate': 'constant',...</td>\n",
       "    </tr>\n",
       "    <tr>\n",
       "      <th>5</th>\n",
       "      <td>0.927237</td>\n",
       "      <td>{'solver': 'adam', 'learning_rate': 'adaptive'...</td>\n",
       "    </tr>\n",
       "    <tr>\n",
       "      <th>6</th>\n",
       "      <td>0.924903</td>\n",
       "      <td>{'solver': 'adam', 'learning_rate': 'constant'...</td>\n",
       "    </tr>\n",
       "    <tr>\n",
       "      <th>7</th>\n",
       "      <td>0.906226</td>\n",
       "      <td>{'solver': 'sgd', 'learning_rate': 'adaptive',...</td>\n",
       "    </tr>\n",
       "    <tr>\n",
       "      <th>8</th>\n",
       "      <td>0.952918</td>\n",
       "      <td>{'solver': 'lbfgs', 'learning_rate': 'constant...</td>\n",
       "    </tr>\n",
       "    <tr>\n",
       "      <th>9</th>\n",
       "      <td>0.952918</td>\n",
       "      <td>{'solver': 'lbfgs', 'learning_rate': 'constant...</td>\n",
       "    </tr>\n",
       "  </tbody>\n",
       "</table>\n",
       "</div>"
      ],
      "text/plain": [
       "   mean_test_score                                             params\n",
       "0         0.903113  {'solver': 'sgd', 'learning_rate': 'adaptive',...\n",
       "1         0.864202  {'solver': 'sgd', 'learning_rate': 'adaptive',...\n",
       "2         0.918677  {'solver': 'adam', 'learning_rate': 'adaptive'...\n",
       "3         0.930739  {'solver': 'sgd', 'learning_rate': 'adaptive',...\n",
       "4         0.863813  {'solver': 'sgd', 'learning_rate': 'constant',...\n",
       "5         0.927237  {'solver': 'adam', 'learning_rate': 'adaptive'...\n",
       "6         0.924903  {'solver': 'adam', 'learning_rate': 'constant'...\n",
       "7         0.906226  {'solver': 'sgd', 'learning_rate': 'adaptive',...\n",
       "8         0.952918  {'solver': 'lbfgs', 'learning_rate': 'constant...\n",
       "9         0.952918  {'solver': 'lbfgs', 'learning_rate': 'constant..."
      ]
     },
     "execution_count": 66,
     "metadata": {},
     "output_type": "execute_result"
    }
   ],
   "source": [
    "pd.DataFrame(rand.cv_results_)[['mean_test_score','params']] # convert random search results to data frame and showing only the wanted columns"
   ]
  },
  {
   "cell_type": "code",
   "execution_count": 67,
   "metadata": {},
   "outputs": [
    {
     "name": "stdout",
     "output_type": "stream",
     "text": [
      "Best model accuracy is :0.953\n",
      "Best set of hyperparamters are: {'solver': 'lbfgs', 'learning_rate': 'constant', 'hidden_layer_sizes': (100, 50, 25, 12), 'activation': 'relu'}\n"
     ]
    }
   ],
   "source": [
    "#Shows the hyperparamters that give the best average model accuracy \n",
    "print (\"Best model accuracy is :{:.3f}\".format(rand.best_score_))\n",
    "print (\"Best set of hyperparamters are:\",rand.best_params_)"
   ]
  },
  {
   "cell_type": "code",
   "execution_count": 68,
   "metadata": {},
   "outputs": [
    {
     "name": "stdout",
     "output_type": "stream",
     "text": [
      "Wall time: 1h 32min 37s\n"
     ]
    },
    {
     "data": {
      "text/plain": [
       "GridSearchCV(cv=5, estimator=MLPClassifier(random_state=0),\n",
       "             param_grid={'activation': ['identity', 'logistic', 'tanh', 'relu'],\n",
       "                         'hidden_layer_sizes': [(100,), (100, 50),\n",
       "                                                (100, 50, 25),\n",
       "                                                (100, 50, 25, 12),\n",
       "                                                (100, 50, 25, 12, 6)],\n",
       "                         'learning_rate': ['constant', 'invscaling',\n",
       "                                           'adaptive'],\n",
       "                         'solver': ['lbfgs', 'sgd', 'adam']},\n",
       "             scoring='accuracy')"
      ]
     },
     "execution_count": 68,
     "metadata": {},
     "output_type": "execute_result"
    }
   ],
   "source": [
    "%%time\n",
    "#Grid search\n",
    "from sklearn.model_selection import GridSearchCV\n",
    "grid = GridSearchCV(model,para_dict,cv=5,scoring = 'accuracy',return_train_score=False)\n",
    "grid.fit(X_train_smote,y_train_smote)"
   ]
  },
  {
   "cell_type": "code",
   "execution_count": 69,
   "metadata": {},
   "outputs": [
    {
     "data": {
      "text/html": [
       "<div>\n",
       "<style scoped>\n",
       "    .dataframe tbody tr th:only-of-type {\n",
       "        vertical-align: middle;\n",
       "    }\n",
       "\n",
       "    .dataframe tbody tr th {\n",
       "        vertical-align: top;\n",
       "    }\n",
       "\n",
       "    .dataframe thead th {\n",
       "        text-align: right;\n",
       "    }\n",
       "</style>\n",
       "<table border=\"1\" class=\"dataframe\">\n",
       "  <thead>\n",
       "    <tr style=\"text-align: right;\">\n",
       "      <th></th>\n",
       "      <th>mean_test_score</th>\n",
       "      <th>params</th>\n",
       "    </tr>\n",
       "  </thead>\n",
       "  <tbody>\n",
       "    <tr>\n",
       "      <th>0</th>\n",
       "      <td>0.917121</td>\n",
       "      <td>{'activation': 'identity', 'hidden_layer_sizes...</td>\n",
       "    </tr>\n",
       "    <tr>\n",
       "      <th>1</th>\n",
       "      <td>0.864202</td>\n",
       "      <td>{'activation': 'identity', 'hidden_layer_sizes...</td>\n",
       "    </tr>\n",
       "    <tr>\n",
       "      <th>2</th>\n",
       "      <td>0.916732</td>\n",
       "      <td>{'activation': 'identity', 'hidden_layer_sizes...</td>\n",
       "    </tr>\n",
       "    <tr>\n",
       "      <th>3</th>\n",
       "      <td>0.917121</td>\n",
       "      <td>{'activation': 'identity', 'hidden_layer_sizes...</td>\n",
       "    </tr>\n",
       "    <tr>\n",
       "      <th>4</th>\n",
       "      <td>0.542023</td>\n",
       "      <td>{'activation': 'identity', 'hidden_layer_sizes...</td>\n",
       "    </tr>\n",
       "    <tr>\n",
       "      <th>...</th>\n",
       "      <td>...</td>\n",
       "      <td>...</td>\n",
       "    </tr>\n",
       "    <tr>\n",
       "      <th>175</th>\n",
       "      <td>0.500000</td>\n",
       "      <td>{'activation': 'relu', 'hidden_layer_sizes': (...</td>\n",
       "    </tr>\n",
       "    <tr>\n",
       "      <th>176</th>\n",
       "      <td>0.950973</td>\n",
       "      <td>{'activation': 'relu', 'hidden_layer_sizes': (...</td>\n",
       "    </tr>\n",
       "    <tr>\n",
       "      <th>177</th>\n",
       "      <td>0.943969</td>\n",
       "      <td>{'activation': 'relu', 'hidden_layer_sizes': (...</td>\n",
       "    </tr>\n",
       "    <tr>\n",
       "      <th>178</th>\n",
       "      <td>0.947471</td>\n",
       "      <td>{'activation': 'relu', 'hidden_layer_sizes': (...</td>\n",
       "    </tr>\n",
       "    <tr>\n",
       "      <th>179</th>\n",
       "      <td>0.950973</td>\n",
       "      <td>{'activation': 'relu', 'hidden_layer_sizes': (...</td>\n",
       "    </tr>\n",
       "  </tbody>\n",
       "</table>\n",
       "<p>180 rows × 2 columns</p>\n",
       "</div>"
      ],
      "text/plain": [
       "     mean_test_score                                             params\n",
       "0           0.917121  {'activation': 'identity', 'hidden_layer_sizes...\n",
       "1           0.864202  {'activation': 'identity', 'hidden_layer_sizes...\n",
       "2           0.916732  {'activation': 'identity', 'hidden_layer_sizes...\n",
       "3           0.917121  {'activation': 'identity', 'hidden_layer_sizes...\n",
       "4           0.542023  {'activation': 'identity', 'hidden_layer_sizes...\n",
       "..               ...                                                ...\n",
       "175         0.500000  {'activation': 'relu', 'hidden_layer_sizes': (...\n",
       "176         0.950973  {'activation': 'relu', 'hidden_layer_sizes': (...\n",
       "177         0.943969  {'activation': 'relu', 'hidden_layer_sizes': (...\n",
       "178         0.947471  {'activation': 'relu', 'hidden_layer_sizes': (...\n",
       "179         0.950973  {'activation': 'relu', 'hidden_layer_sizes': (...\n",
       "\n",
       "[180 rows x 2 columns]"
      ]
     },
     "execution_count": 69,
     "metadata": {},
     "output_type": "execute_result"
    }
   ],
   "source": [
    "pd.DataFrame(grid.cv_results_)[['mean_test_score','params']] # convert grid search results to data frame and showing only the wanted columns"
   ]
  },
  {
   "cell_type": "code",
   "execution_count": 70,
   "metadata": {},
   "outputs": [
    {
     "name": "stdout",
     "output_type": "stream",
     "text": [
      "Best model accuracy is :0.957\n",
      "Best set of hyperparamters are: {'activation': 'logistic', 'hidden_layer_sizes': (100, 50), 'learning_rate': 'constant', 'solver': 'lbfgs'}\n"
     ]
    }
   ],
   "source": [
    "#Shows the hyperparamters that give the best average model accuracy \n",
    "print (\"Best model accuracy is :{:.3f}\".format(grid.best_score_))\n",
    "print (\"Best set of hyperparamters are:\",grid.best_params_)"
   ]
  },
  {
   "cell_type": "markdown",
   "metadata": {},
   "source": [
    "### Tuned model with Random Search Parameters and Oversampled training data + evaluation"
   ]
  },
  {
   "cell_type": "code",
   "execution_count": 71,
   "metadata": {},
   "outputs": [],
   "source": [
    "#Get the values of the for the optimal hyperparamters\n",
    "rs_optimal_hidden_layer_sizes = rand.best_params_.get('hidden_layer_sizes')\n",
    "rs_optimal_activation = rand.best_params_.get('activation')\n",
    "rs_optimal_solver = rand.best_params_.get('solver')\n",
    "rs_optimal_learning_rate = rand.best_params_.get('learning_rate')"
   ]
  },
  {
   "cell_type": "code",
   "execution_count": 72,
   "metadata": {},
   "outputs": [
    {
     "name": "stdout",
     "output_type": "stream",
     "text": [
      "Training Model score:1.000\n",
      "Testing Model score:0.934\n",
      "Wall time: 4.07 s\n"
     ]
    }
   ],
   "source": [
    "%%time\n",
    "#MLPC model after oversampling and random  search\n",
    "from sklearn.neural_network import MLPClassifier\n",
    "model = MLPClassifier(hidden_layer_sizes=rs_optimal_hidden_layer_sizes,activation=rs_optimal_activation,solver=rs_optimal_solver,learning_rate=rs_optimal_learning_rate,\n",
    "random_state=0)\n",
    "model.fit(X_train_smote,y_train_smote)\n",
    "training_score = model.score(X_train_smote,y_train_smote)\n",
    "print (\"Training Model score:{:.3f}\".format(training_score))\n",
    "testing_score = model.score(X_test,y_test)\n",
    "print (\"Testing Model score:{:.3f}\".format(testing_score))"
   ]
  },
  {
   "cell_type": "code",
   "execution_count": 73,
   "metadata": {},
   "outputs": [
    {
     "name": "stdout",
     "output_type": "stream",
     "text": [
      "[0.89861751 0.9124424  0.93087558 0.94457275]\n",
      "Average model performance : 0.922\n"
     ]
    }
   ],
   "source": [
    "#Cross validation of MLPC model after oversampling and random search\n",
    "from sklearn.model_selection import cross_val_score\n",
    "scores = cross_val_score(model,X,y,cv =4,scoring = 'accuracy')\n",
    "print(scores)\n",
    "avg_scores = scores.mean()\n",
    "print(\"Average model performance : {:.3f}\".format(avg_scores))"
   ]
  },
  {
   "cell_type": "code",
   "execution_count": 74,
   "metadata": {},
   "outputs": [
    {
     "name": "stdout",
     "output_type": "stream",
     "text": [
      "[[308  13]\n",
      " [ 10  16]]\n"
     ]
    }
   ],
   "source": [
    "#Confusion matrix for MLPC model after oversampling and random search\n",
    "y_test_pred = model.predict(X_test)\n",
    "from sklearn.metrics import confusion_matrix\n",
    "cfm = confusion_matrix(y_test,y_test_pred)\n",
    "print(cfm)"
   ]
  },
  {
   "cell_type": "code",
   "execution_count": 75,
   "metadata": {},
   "outputs": [
    {
     "data": {
      "text/plain": [
       "[Text(0, 0.5, 'Non-Fraudulent'), Text(0, 1.5, 'Fraudulent')]"
      ]
     },
     "execution_count": 75,
     "metadata": {},
     "output_type": "execute_result"
    },
    {
     "data": {
      "image/png": "[encoded data removed]",
      "text/plain": [
       "<Figure size 432x288 with 2 Axes>"
      ]
     },
     "metadata": {
      "needs_background": "light"
     },
     "output_type": "display_data"
    }
   ],
   "source": [
    "#Confusion matrix visualisation for MLPC model after oversampling and random search\n",
    "group_names = ['True Neg','False Pos','False Neg','True Pos']\n",
    "group_counts = ['{0:0.0f}'.format(value) for value in cfm.flatten()]\n",
    "group_percentages = ['{0:.2%}'.format(value) for value in cfm.flatten()/np.sum(cfm)]\n",
    "labels = [f'{v1}\\n{v2}\\n{v3}' for v1, v2, v3 in zip(group_names,group_counts,group_percentages)]\n",
    "labels = np.asarray(labels).reshape(2,2)\n",
    "\n",
    "ax= plt.subplot()\n",
    "sns.heatmap(cfm,ax=ax,annot=labels, fmt='', cmap='Blues',)\n",
    "\n",
    "ax.set_xlabel('Predicted labels')\n",
    "ax.set_ylabel('True labels')\n",
    "ax.set_title('Confusion Matrix')\n",
    "ax.xaxis.set_ticklabels(['Non-Fraudulent', 'Fraudulent'])\n",
    "ax.yaxis.set_ticklabels(['Non-Fraudulent', 'Fraudulent'])"
   ]
  },
  {
   "cell_type": "code",
   "execution_count": 76,
   "metadata": {},
   "outputs": [
    {
     "name": "stdout",
     "output_type": "stream",
     "text": [
      "                precision    recall  f1-score   support\n",
      "\n",
      "Non-Fraudulent       0.97      0.96      0.96       321\n",
      "    Fraudulent       0.55      0.62      0.58        26\n",
      "\n",
      "      accuracy                           0.93       347\n",
      "     macro avg       0.76      0.79      0.77       347\n",
      "  weighted avg       0.94      0.93      0.94       347\n",
      "\n"
     ]
    }
   ],
   "source": [
    "#Classification report for MLPC model after oversampling and random search\n",
    "from sklearn.metrics import classification_report\n",
    "target_names = ['Non-Fraudulent','Fraudulent']\n",
    "cReport = classification_report(y_test,y_test_pred,target_names = target_names)\n",
    "print(cReport)"
   ]
  }
 ],
 "metadata": {
  "interpreter": {
   "hash": "faaf82bef741232c9714e9f2cfed945e741d996a763d5333d4ec0540e1bd5b03"
  },
  "kernelspec": {
   "display_name": "Python 3.7.0 64-bit",
   "language": "python",
   "name": "python3"
  },
  "language_info": {
   "codemirror_mode": {
    "name": "ipython",
    "version": 3
   },
   "file_extension": ".py",
   "mimetype": "text/x-python",
   "name": "python",
   "nbconvert_exporter": "python",
   "pygments_lexer": "ipython3",
   "version": "3.7.8"
  },
  "orig_nbformat": 4
 },
 "nbformat": 4,
 "nbformat_minor": 2
}
